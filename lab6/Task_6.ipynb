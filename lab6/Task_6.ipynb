{
 "cells": [
  {
   "cell_type": "markdown",
   "id": "c305601e-f22d-4cc5-aa23-991667a25e44",
   "metadata": {
    "id": "c305601e-f22d-4cc5-aa23-991667a25e44"
   },
   "source": [
    "### Тема: работа с текстом (пример классификации по тематикам)\n",
    "\n",
    "**Задание:**\n",
    "\n",
    "1. Найти набор данных с текстами для классификации (анализ тональности, классификация по тематикам)\n",
    "2. Разобрать данный пример, загрузить свои данные.\n",
    "3. Посмотреть, что больше влияет на качество обучения: увеличение количества слов в словаре, выходная размерность эмбеддинга или количество элементов LSTM/GRU\n",
    "\n",
    "*Указание к выполнению.*\n",
    "В задаче анализа текстов данные слишком разбухают, модули LSTM/GRU в ходе работы выполняют много арифметических операций, поэтому эти скрипты лучше запускать в высокопроизводительной среде или в Google Colab **в режиме поддержки T4 GPU**\n"
   ]
  },
  {
   "cell_type": "code",
   "execution_count": 2,
   "id": "0sg269oeJzg1",
   "metadata": {
    "id": "0sg269oeJzg1"
   },
   "outputs": [],
   "source": [
    "import numpy as np\n",
    "import pandas as pd\n",
    "from sklearn.model_selection import train_test_split\n",
    "import matplotlib.pyplot as plt\n",
    "import seaborn as sns"
   ]
  },
  {
   "cell_type": "code",
   "execution_count": 3,
   "id": "cIA7gVSRIeBG",
   "metadata": {
    "id": "cIA7gVSRIeBG"
   },
   "outputs": [],
   "source": [
    "#1. Найти набор данных с текстами для классификации (анализ тональности, классификация по тематикам)\n",
    "# Датасет с постами из твиттера по поводу коронавируса для анализа тональности\n",
    "#UserName\tи ScreenName - id\n",
    "#Location\t- местоположение\n",
    "#TweetAt - время написания поста\n",
    "#OriginalTweet - текст поста\n",
    "#Sentiment - тональность (Extremely Negative - Negative - Neutral - Positive - Extremely Positive)\n",
    "train_data = pd.read_csv(\"Corona_NLP_train.csv\", encoding='latin_1')\n",
    "test_data = pd.read_csv(\"Corona_NLP_test.csv\", encoding='latin_1')"
   ]
  },
  {
   "cell_type": "code",
   "execution_count": 4,
   "id": "tBuQ6yPaJ_7U",
   "metadata": {
    "id": "tBuQ6yPaJ_7U"
   },
   "outputs": [],
   "source": [
    "train_data.drop_duplicates(inplace= True)\n",
    "test_data.drop_duplicates(inplace=True)\n",
    "\n",
    "train_data.dropna(inplace=True)\n",
    "test_data.dropna(inplace=True)"
   ]
  },
  {
   "cell_type": "code",
   "execution_count": 5,
   "id": "6Yh4yMgDLrcU",
   "metadata": {
    "id": "6Yh4yMgDLrcU"
   },
   "outputs": [],
   "source": [
    "#поменяем все нейтральные на 0, позитивные на 1, негативные на 2\n",
    "def change_sentiment(sentiment):\n",
    "    if sentiment == \"Extremely Positive\":\n",
    "        return 1\n",
    "    elif sentiment == \"Extremely Negative\":\n",
    "        return 2\n",
    "    elif sentiment == \"Positive\":\n",
    "        return 1\n",
    "    elif sentiment == \"Negative\":\n",
    "        return 2\n",
    "    else:\n",
    "        return 0"
   ]
  },
  {
   "cell_type": "code",
   "execution_count": 6,
   "id": "yV1hmbtGMCpE",
   "metadata": {
    "id": "yV1hmbtGMCpE"
   },
   "outputs": [],
   "source": [
    "train_data['Sentiment'] = train_data['Sentiment'].apply(lambda x: change_sentiment(x))\n",
    "test_data['Sentiment'] = test_data['Sentiment'].apply(lambda x: change_sentiment(x))"
   ]
  },
  {
   "cell_type": "code",
   "execution_count": 7,
   "id": "P-rTRgZoKTjF",
   "metadata": {
    "colab": {
     "base_uri": "https://localhost:8080/",
     "height": 423
    },
    "id": "P-rTRgZoKTjF",
    "outputId": "c8dbcdad-a0c0-4092-ecfd-d3099db1efcc"
   },
   "outputs": [
    {
     "data": {
      "text/html": [
       "<div>\n",
       "<style scoped>\n",
       "    .dataframe tbody tr th:only-of-type {\n",
       "        vertical-align: middle;\n",
       "    }\n",
       "\n",
       "    .dataframe tbody tr th {\n",
       "        vertical-align: top;\n",
       "    }\n",
       "\n",
       "    .dataframe thead th {\n",
       "        text-align: right;\n",
       "    }\n",
       "</style>\n",
       "<table border=\"1\" class=\"dataframe\">\n",
       "  <thead>\n",
       "    <tr style=\"text-align: right;\">\n",
       "      <th></th>\n",
       "      <th>UserName</th>\n",
       "      <th>ScreenName</th>\n",
       "      <th>Location</th>\n",
       "      <th>TweetAt</th>\n",
       "      <th>OriginalTweet</th>\n",
       "      <th>Sentiment</th>\n",
       "    </tr>\n",
       "  </thead>\n",
       "  <tbody>\n",
       "    <tr>\n",
       "      <th>0</th>\n",
       "      <td>3799</td>\n",
       "      <td>48751</td>\n",
       "      <td>London</td>\n",
       "      <td>16-03-2020</td>\n",
       "      <td>@MeNyrbie @Phil_Gahan @Chrisitv https://t.co/i...</td>\n",
       "      <td>0</td>\n",
       "    </tr>\n",
       "    <tr>\n",
       "      <th>1</th>\n",
       "      <td>3800</td>\n",
       "      <td>48752</td>\n",
       "      <td>UK</td>\n",
       "      <td>16-03-2020</td>\n",
       "      <td>advice Talk to your neighbours family to excha...</td>\n",
       "      <td>1</td>\n",
       "    </tr>\n",
       "    <tr>\n",
       "      <th>2</th>\n",
       "      <td>3801</td>\n",
       "      <td>48753</td>\n",
       "      <td>Vagabonds</td>\n",
       "      <td>16-03-2020</td>\n",
       "      <td>Coronavirus Australia: Woolworths to give elde...</td>\n",
       "      <td>1</td>\n",
       "    </tr>\n",
       "    <tr>\n",
       "      <th>5</th>\n",
       "      <td>3804</td>\n",
       "      <td>48756</td>\n",
       "      <td>ÃT: 36.319708,-82.363649</td>\n",
       "      <td>16-03-2020</td>\n",
       "      <td>As news of the regionÂs first confirmed COVID...</td>\n",
       "      <td>1</td>\n",
       "    </tr>\n",
       "    <tr>\n",
       "      <th>6</th>\n",
       "      <td>3805</td>\n",
       "      <td>48757</td>\n",
       "      <td>35.926541,-78.753267</td>\n",
       "      <td>16-03-2020</td>\n",
       "      <td>Cashier at grocery store was sharing his insig...</td>\n",
       "      <td>1</td>\n",
       "    </tr>\n",
       "    <tr>\n",
       "      <th>...</th>\n",
       "      <td>...</td>\n",
       "      <td>...</td>\n",
       "      <td>...</td>\n",
       "      <td>...</td>\n",
       "      <td>...</td>\n",
       "      <td>...</td>\n",
       "    </tr>\n",
       "    <tr>\n",
       "      <th>41147</th>\n",
       "      <td>44946</td>\n",
       "      <td>89898</td>\n",
       "      <td>Brooklyn, NY</td>\n",
       "      <td>14-04-2020</td>\n",
       "      <td>YÂall really shitting that much more at home?...</td>\n",
       "      <td>2</td>\n",
       "    </tr>\n",
       "    <tr>\n",
       "      <th>41149</th>\n",
       "      <td>44948</td>\n",
       "      <td>89900</td>\n",
       "      <td>Toronto, Ontario</td>\n",
       "      <td>14-04-2020</td>\n",
       "      <td>Still shocked by the number of #Toronto superm...</td>\n",
       "      <td>2</td>\n",
       "    </tr>\n",
       "    <tr>\n",
       "      <th>41150</th>\n",
       "      <td>44949</td>\n",
       "      <td>89901</td>\n",
       "      <td>OHIO</td>\n",
       "      <td>14-04-2020</td>\n",
       "      <td>I never that weÂd be in a situation &amp;amp; wor...</td>\n",
       "      <td>1</td>\n",
       "    </tr>\n",
       "    <tr>\n",
       "      <th>41152</th>\n",
       "      <td>44951</td>\n",
       "      <td>89903</td>\n",
       "      <td>Wellington City, New Zealand</td>\n",
       "      <td>14-04-2020</td>\n",
       "      <td>Airline pilots offering to stock supermarket s...</td>\n",
       "      <td>0</td>\n",
       "    </tr>\n",
       "    <tr>\n",
       "      <th>41156</th>\n",
       "      <td>44955</td>\n",
       "      <td>89907</td>\n",
       "      <td>i love you so much || he/him</td>\n",
       "      <td>14-04-2020</td>\n",
       "      <td>@TartiiCat Well new/used Rift S are going for ...</td>\n",
       "      <td>2</td>\n",
       "    </tr>\n",
       "  </tbody>\n",
       "</table>\n",
       "<p>32567 rows × 6 columns</p>\n",
       "</div>"
      ],
      "text/plain": [
       "       UserName  ScreenName                      Location     TweetAt  \\\n",
       "0          3799       48751                        London  16-03-2020   \n",
       "1          3800       48752                            UK  16-03-2020   \n",
       "2          3801       48753                     Vagabonds  16-03-2020   \n",
       "5          3804       48756     ÃT: 36.319708,-82.363649  16-03-2020   \n",
       "6          3805       48757          35.926541,-78.753267  16-03-2020   \n",
       "...         ...         ...                           ...         ...   \n",
       "41147     44946       89898                  Brooklyn, NY  14-04-2020   \n",
       "41149     44948       89900              Toronto, Ontario  14-04-2020   \n",
       "41150     44949       89901                          OHIO  14-04-2020   \n",
       "41152     44951       89903  Wellington City, New Zealand  14-04-2020   \n",
       "41156     44955       89907  i love you so much || he/him  14-04-2020   \n",
       "\n",
       "                                           OriginalTweet  Sentiment  \n",
       "0      @MeNyrbie @Phil_Gahan @Chrisitv https://t.co/i...          0  \n",
       "1      advice Talk to your neighbours family to excha...          1  \n",
       "2      Coronavirus Australia: Woolworths to give elde...          1  \n",
       "5      As news of the regionÂs first confirmed COVID...          1  \n",
       "6      Cashier at grocery store was sharing his insig...          1  \n",
       "...                                                  ...        ...  \n",
       "41147  YÂall really shitting that much more at home?...          2  \n",
       "41149  Still shocked by the number of #Toronto superm...          2  \n",
       "41150  I never that weÂd be in a situation &amp; wor...          1  \n",
       "41152  Airline pilots offering to stock supermarket s...          0  \n",
       "41156  @TartiiCat Well new/used Rift S are going for ...          2  \n",
       "\n",
       "[32567 rows x 6 columns]"
      ]
     },
     "execution_count": 7,
     "metadata": {},
     "output_type": "execute_result"
    }
   ],
   "source": [
    "train_data"
   ]
  },
  {
   "cell_type": "code",
   "execution_count": 8,
   "id": "SJSeDwtZKVD8",
   "metadata": {
    "colab": {
     "base_uri": "https://localhost:8080/",
     "height": 423
    },
    "id": "SJSeDwtZKVD8",
    "outputId": "f4715033-a725-4367-b635-15455e2c33d0"
   },
   "outputs": [
    {
     "data": {
      "text/html": [
       "<div>\n",
       "<style scoped>\n",
       "    .dataframe tbody tr th:only-of-type {\n",
       "        vertical-align: middle;\n",
       "    }\n",
       "\n",
       "    .dataframe tbody tr th {\n",
       "        vertical-align: top;\n",
       "    }\n",
       "\n",
       "    .dataframe thead th {\n",
       "        text-align: right;\n",
       "    }\n",
       "</style>\n",
       "<table border=\"1\" class=\"dataframe\">\n",
       "  <thead>\n",
       "    <tr style=\"text-align: right;\">\n",
       "      <th></th>\n",
       "      <th>UserName</th>\n",
       "      <th>ScreenName</th>\n",
       "      <th>Location</th>\n",
       "      <th>TweetAt</th>\n",
       "      <th>OriginalTweet</th>\n",
       "      <th>Sentiment</th>\n",
       "    </tr>\n",
       "  </thead>\n",
       "  <tbody>\n",
       "    <tr>\n",
       "      <th>0</th>\n",
       "      <td>1</td>\n",
       "      <td>44953</td>\n",
       "      <td>NYC</td>\n",
       "      <td>02-03-2020</td>\n",
       "      <td>TRENDING: New Yorkers encounter empty supermar...</td>\n",
       "      <td>2</td>\n",
       "    </tr>\n",
       "    <tr>\n",
       "      <th>1</th>\n",
       "      <td>2</td>\n",
       "      <td>44954</td>\n",
       "      <td>Seattle, WA</td>\n",
       "      <td>02-03-2020</td>\n",
       "      <td>When I couldn't find hand sanitizer at Fred Me...</td>\n",
       "      <td>1</td>\n",
       "    </tr>\n",
       "    <tr>\n",
       "      <th>3</th>\n",
       "      <td>4</td>\n",
       "      <td>44956</td>\n",
       "      <td>Chicagoland</td>\n",
       "      <td>02-03-2020</td>\n",
       "      <td>#Panic buying hits #NewYork City as anxious sh...</td>\n",
       "      <td>2</td>\n",
       "    </tr>\n",
       "    <tr>\n",
       "      <th>4</th>\n",
       "      <td>5</td>\n",
       "      <td>44957</td>\n",
       "      <td>Melbourne, Victoria</td>\n",
       "      <td>03-03-2020</td>\n",
       "      <td>#toiletpaper #dunnypaper #coronavirus #coronav...</td>\n",
       "      <td>0</td>\n",
       "    </tr>\n",
       "    <tr>\n",
       "      <th>5</th>\n",
       "      <td>6</td>\n",
       "      <td>44958</td>\n",
       "      <td>Los Angeles</td>\n",
       "      <td>03-03-2020</td>\n",
       "      <td>Do you remember the last time you paid $2.99 a...</td>\n",
       "      <td>0</td>\n",
       "    </tr>\n",
       "    <tr>\n",
       "      <th>...</th>\n",
       "      <td>...</td>\n",
       "      <td>...</td>\n",
       "      <td>...</td>\n",
       "      <td>...</td>\n",
       "      <td>...</td>\n",
       "      <td>...</td>\n",
       "    </tr>\n",
       "    <tr>\n",
       "      <th>3792</th>\n",
       "      <td>3793</td>\n",
       "      <td>48745</td>\n",
       "      <td>Washington D.C.</td>\n",
       "      <td>16-03-2020</td>\n",
       "      <td>@RicePolitics @MDCounties Craig, will you call...</td>\n",
       "      <td>2</td>\n",
       "    </tr>\n",
       "    <tr>\n",
       "      <th>3793</th>\n",
       "      <td>3794</td>\n",
       "      <td>48746</td>\n",
       "      <td>Israel ??</td>\n",
       "      <td>16-03-2020</td>\n",
       "      <td>Meanwhile In A Supermarket in Israel -- People...</td>\n",
       "      <td>1</td>\n",
       "    </tr>\n",
       "    <tr>\n",
       "      <th>3794</th>\n",
       "      <td>3795</td>\n",
       "      <td>48747</td>\n",
       "      <td>Farmington, NM</td>\n",
       "      <td>16-03-2020</td>\n",
       "      <td>Did you panic buy a lot of non-perishable item...</td>\n",
       "      <td>2</td>\n",
       "    </tr>\n",
       "    <tr>\n",
       "      <th>3795</th>\n",
       "      <td>3796</td>\n",
       "      <td>48748</td>\n",
       "      <td>Haverford, PA</td>\n",
       "      <td>16-03-2020</td>\n",
       "      <td>Asst Prof of Economics @cconces was on @NBCPhi...</td>\n",
       "      <td>0</td>\n",
       "    </tr>\n",
       "    <tr>\n",
       "      <th>3797</th>\n",
       "      <td>3798</td>\n",
       "      <td>48750</td>\n",
       "      <td>Arlington, Virginia</td>\n",
       "      <td>16-03-2020</td>\n",
       "      <td>I and @ForestandPaper members are committed to...</td>\n",
       "      <td>1</td>\n",
       "    </tr>\n",
       "  </tbody>\n",
       "</table>\n",
       "<p>2964 rows × 6 columns</p>\n",
       "</div>"
      ],
      "text/plain": [
       "      UserName  ScreenName             Location     TweetAt  \\\n",
       "0            1       44953                  NYC  02-03-2020   \n",
       "1            2       44954          Seattle, WA  02-03-2020   \n",
       "3            4       44956          Chicagoland  02-03-2020   \n",
       "4            5       44957  Melbourne, Victoria  03-03-2020   \n",
       "5            6       44958          Los Angeles  03-03-2020   \n",
       "...        ...         ...                  ...         ...   \n",
       "3792      3793       48745      Washington D.C.  16-03-2020   \n",
       "3793      3794       48746            Israel ??  16-03-2020   \n",
       "3794      3795       48747       Farmington, NM  16-03-2020   \n",
       "3795      3796       48748        Haverford, PA  16-03-2020   \n",
       "3797      3798       48750  Arlington, Virginia  16-03-2020   \n",
       "\n",
       "                                          OriginalTweet  Sentiment  \n",
       "0     TRENDING: New Yorkers encounter empty supermar...          2  \n",
       "1     When I couldn't find hand sanitizer at Fred Me...          1  \n",
       "3     #Panic buying hits #NewYork City as anxious sh...          2  \n",
       "4     #toiletpaper #dunnypaper #coronavirus #coronav...          0  \n",
       "5     Do you remember the last time you paid $2.99 a...          0  \n",
       "...                                                 ...        ...  \n",
       "3792  @RicePolitics @MDCounties Craig, will you call...          2  \n",
       "3793  Meanwhile In A Supermarket in Israel -- People...          1  \n",
       "3794  Did you panic buy a lot of non-perishable item...          2  \n",
       "3795  Asst Prof of Economics @cconces was on @NBCPhi...          0  \n",
       "3797  I and @ForestandPaper members are committed to...          1  \n",
       "\n",
       "[2964 rows x 6 columns]"
      ]
     },
     "execution_count": 8,
     "metadata": {},
     "output_type": "execute_result"
    }
   ],
   "source": [
    "test_data"
   ]
  },
  {
   "cell_type": "code",
   "execution_count": 9,
   "id": "YZXZRyc7MTeN",
   "metadata": {
    "id": "YZXZRyc7MTeN"
   },
   "outputs": [],
   "source": [
    "#оставляем только текст и окраску\n",
    "train_data = train_data.iloc[:,4:]\n",
    "test_data = test_data.iloc[:,4:]"
   ]
  },
  {
   "cell_type": "code",
   "execution_count": 10,
   "id": "VL-p03KXKsdN",
   "metadata": {
    "colab": {
     "base_uri": "https://localhost:8080/"
    },
    "id": "VL-p03KXKsdN",
    "outputId": "91fc0d1d-79ba-40e5-bae6-1354c31c777e"
   },
   "outputs": [
    {
     "data": {
      "text/plain": [
       "((32567, 2), (2964, 2))"
      ]
     },
     "execution_count": 10,
     "metadata": {},
     "output_type": "execute_result"
    }
   ],
   "source": [
    "train_data.shape, test_data.shape"
   ]
  },
  {
   "cell_type": "code",
   "execution_count": 11,
   "id": "bb-lwdVVKwPd",
   "metadata": {
    "id": "bb-lwdVVKwPd"
   },
   "outputs": [],
   "source": [
    "X_train = train_data['OriginalTweet']\n",
    "X_test = test_data['OriginalTweet']\n",
    "\n",
    "Y_train = train_data['Sentiment']\n",
    "Y_test = test_data['Sentiment']"
   ]
  },
  {
   "cell_type": "code",
   "execution_count": 12,
   "id": "uGYAQB1lNYeE",
   "metadata": {
    "id": "uGYAQB1lNYeE"
   },
   "outputs": [],
   "source": [
    "#2. Разобрать данный пример, загрузить свои данные\n",
    "from tensorflow.keras.preprocessing.text import Tokenizer\n",
    "from keras.utils import pad_sequences\n",
    "\n",
    "from keras.models import Sequential\n",
    "from keras.layers import LSTM, GRU, Dense, Bidirectional, Embedding, Input, Dropout"
   ]
  },
  {
   "cell_type": "code",
   "execution_count": 13,
   "id": "3mp6Bv_4N0mj",
   "metadata": {
    "id": "3mp6Bv_4N0mj"
   },
   "outputs": [],
   "source": [
    "#Токенизация\n",
    "maxWordCount = 1000 # количество слов в словаре\n",
    "\n",
    "tokenizer = Tokenizer(maxWordCount)\n",
    "tokenizer.fit_on_texts(X_train.to_numpy())"
   ]
  },
  {
   "cell_type": "code",
   "execution_count": 14,
   "id": "rd2hj15COs7b",
   "metadata": {
    "colab": {
     "base_uri": "https://localhost:8080/"
    },
    "id": "rd2hj15COs7b",
    "outputId": "1bb64a41-6b8c-4f37-df1e-e2ebc596bfe8"
   },
   "outputs": [
    {
     "data": {
      "text/plain": [
       "{'the': 1,\n",
       " 'to': 2,\n",
       " '\\r\\r': 3,\n",
       " 't': 4,\n",
       " 'co': 5,\n",
       " 'https': 6,\n",
       " 'and': 7,\n",
       " 'of': 8,\n",
       " 'a': 9,\n",
       " 'in': 10,\n",
       " 'coronavirus': 11,\n",
       " '19': 12,\n",
       " 'covid': 13,\n",
       " 'for': 14,\n",
       " 'is': 15,\n",
       " 'are': 16,\n",
       " 'on': 17,\n",
       " 'you': 18,\n",
       " 'i': 19,\n",
       " 'this': 20,\n",
       " 'at': 21,\n",
       " 'prices': 22,\n",
       " 'food': 23,\n",
       " 'supermarket': 24,\n",
       " 'store': 25,\n",
       " 'with': 26,\n",
       " 'we': 27,\n",
       " 'grocery': 28,\n",
       " 'that': 29,\n",
       " 'as': 30,\n",
       " 'have': 31,\n",
       " 'be': 32,\n",
       " 'it': 33,\n",
       " 'from': 34,\n",
       " 'amp': 35,\n",
       " 'people': 36,\n",
       " 'covid19': 37,\n",
       " 'consumer': 38,\n",
       " 'all': 39,\n",
       " 'your': 40,\n",
       " 'will': 41,\n",
       " 'not': 42,\n",
       " 'our': 43,\n",
       " 'my': 44,\n",
       " 'up': 45,\n",
       " 'has': 46,\n",
       " 'out': 47,\n",
       " 'more': 48,\n",
       " 'or': 49,\n",
       " 'by': 50,\n",
       " 'they': 51,\n",
       " 'can': 52,\n",
       " 'shopping': 53,\n",
       " 'online': 54,\n",
       " 'if': 55,\n",
       " 'but': 56,\n",
       " 'how': 57,\n",
       " 'during': 58,\n",
       " 'pandemic': 59,\n",
       " 'their': 60,\n",
       " 'now': 61,\n",
       " 'so': 62,\n",
       " 'about': 63,\n",
       " 'no': 64,\n",
       " 'get': 65,\n",
       " 'need': 66,\n",
       " 'what': 67,\n",
       " 'who': 68,\n",
       " 'just': 69,\n",
       " 'workers': 70,\n",
       " 'panic': 71,\n",
       " 'us': 72,\n",
       " 'time': 73,\n",
       " 'demand': 74,\n",
       " 'like': 75,\n",
       " 'do': 76,\n",
       " 'sanitizer': 77,\n",
       " 'an': 78,\n",
       " 'home': 79,\n",
       " 'was': 80,\n",
       " 'when': 81,\n",
       " 'some': 82,\n",
       " 'go': 83,\n",
       " 'help': 84,\n",
       " 's': 85,\n",
       " 'hand': 86,\n",
       " 'there': 87,\n",
       " 'one': 88,\n",
       " 'stock': 89,\n",
       " 'going': 90,\n",
       " 'due': 91,\n",
       " 'me': 92,\n",
       " 'new': 93,\n",
       " 'been': 94,\n",
       " 'oil': 95,\n",
       " 'buying': 96,\n",
       " 'crisis': 97,\n",
       " 'here': 98,\n",
       " 'please': 99,\n",
       " 'covid2019': 100,\n",
       " 'work': 101,\n",
       " '2': 102,\n",
       " 'toiletpaper': 103,\n",
       " 'retail': 104,\n",
       " 'them': 105,\n",
       " 'after': 106,\n",
       " 'other': 107,\n",
       " 'these': 108,\n",
       " 'toilet': 109,\n",
       " 'local': 110,\n",
       " 'than': 111,\n",
       " 'only': 112,\n",
       " 'paper': 113,\n",
       " 'should': 114,\n",
       " 'over': 115,\n",
       " 'via': 116,\n",
       " 'because': 117,\n",
       " 'stay': 118,\n",
       " '1': 119,\n",
       " 'today': 120,\n",
       " 'keep': 121,\n",
       " 'stores': 122,\n",
       " 'shelves': 123,\n",
       " 'many': 124,\n",
       " 'delivery': 125,\n",
       " 'buy': 126,\n",
       " 'still': 127,\n",
       " 'see': 128,\n",
       " 'being': 129,\n",
       " 'those': 130,\n",
       " 'make': 131,\n",
       " 'supply': 132,\n",
       " 'know': 133,\n",
       " 'down': 134,\n",
       " 'take': 135,\n",
       " 'day': 136,\n",
       " 'its': 137,\n",
       " 'into': 138,\n",
       " 'lockdown': 139,\n",
       " 'outbreak': 140,\n",
       " 'health': 141,\n",
       " 'why': 142,\n",
       " 'social': 143,\n",
       " 'would': 144,\n",
       " 'could': 145,\n",
       " '3': 146,\n",
       " 'price': 147,\n",
       " 'even': 148,\n",
       " 'business': 149,\n",
       " 'staff': 150,\n",
       " 'any': 151,\n",
       " 'stop': 152,\n",
       " 'virus': 153,\n",
       " 'while': 154,\n",
       " 'masks': 155,\n",
       " 'working': 156,\n",
       " 'had': 157,\n",
       " 'everyone': 158,\n",
       " 'week': 159,\n",
       " 'also': 160,\n",
       " 'amid': 161,\n",
       " 'essential': 162,\n",
       " 'spread': 163,\n",
       " 'market': 164,\n",
       " 'customers': 165,\n",
       " 'think': 166,\n",
       " 'use': 167,\n",
       " 'were': 168,\n",
       " \"it's\": 169,\n",
       " 'socialdistancing': 170,\n",
       " 'good': 171,\n",
       " 'most': 172,\n",
       " 'impact': 173,\n",
       " 'world': 174,\n",
       " 'shop': 175,\n",
       " 'safe': 176,\n",
       " 'way': 177,\n",
       " \"don't\": 178,\n",
       " 'off': 179,\n",
       " 'thank': 180,\n",
       " 'may': 181,\n",
       " 'products': 182,\n",
       " 'government': 183,\n",
       " 'first': 184,\n",
       " 'much': 185,\n",
       " 'news': 186,\n",
       " 'back': 187,\n",
       " 'employees': 188,\n",
       " 'doing': 189,\n",
       " 'right': 190,\n",
       " 'which': 191,\n",
       " 'read': 192,\n",
       " 'items': 193,\n",
       " 'every': 194,\n",
       " 'times': 195,\n",
       " 'supplies': 196,\n",
       " 'before': 197,\n",
       " 'he': 198,\n",
       " 'last': 199,\n",
       " 'free': 200,\n",
       " 'support': 201,\n",
       " 'low': 202,\n",
       " 'around': 203,\n",
       " 'where': 204,\n",
       " 'find': 205,\n",
       " 'global': 206,\n",
       " 'well': 207,\n",
       " 'face': 208,\n",
       " 'mask': 209,\n",
       " 'high': 210,\n",
       " 'said': 211,\n",
       " 'itâ\\x92s': 212,\n",
       " 'says': 213,\n",
       " '4': 214,\n",
       " 'uk': 215,\n",
       " 'through': 216,\n",
       " 'days': 217,\n",
       " 'want': 218,\n",
       " 'got': 219,\n",
       " 'quarantine': 220,\n",
       " 'businesses': 221,\n",
       " 'distancing': 222,\n",
       " 'consumers': 223,\n",
       " 'gas': 224,\n",
       " 'risk': 225,\n",
       " 'money': 226,\n",
       " 'supermarkets': 227,\n",
       " 'public': 228,\n",
       " 'open': 229,\n",
       " 'donâ\\x92t': 230,\n",
       " 'empty': 231,\n",
       " 'economy': 232,\n",
       " \"i'm\": 233,\n",
       " 'companies': 234,\n",
       " 'weeks': 235,\n",
       " 'then': 236,\n",
       " 'corona': 237,\n",
       " 'order': 238,\n",
       " 'went': 239,\n",
       " 'long': 240,\n",
       " 'getting': 241,\n",
       " 'next': 242,\n",
       " 'really': 243,\n",
       " 'coronacrisis': 244,\n",
       " 'care': 245,\n",
       " 'since': 246,\n",
       " 'too': 247,\n",
       " 'am': 248,\n",
       " 'u': 249,\n",
       " 'march': 250,\n",
       " 'look': 251,\n",
       " 'iâ\\x92m': 252,\n",
       " '5': 253,\n",
       " 'very': 254,\n",
       " 'things': 255,\n",
       " 'full': 256,\n",
       " 'her': 257,\n",
       " 'available': 258,\n",
       " 'say': 259,\n",
       " 'making': 260,\n",
       " 'line': 261,\n",
       " 'two': 262,\n",
       " 'services': 263,\n",
       " 'taking': 264,\n",
       " 'hours': 265,\n",
       " 'his': 266,\n",
       " 'check': 267,\n",
       " 'enough': 268,\n",
       " 'great': 269,\n",
       " 'others': 270,\n",
       " '2020': 271,\n",
       " 'country': 272,\n",
       " 'service': 273,\n",
       " 're': 274,\n",
       " 'hands': 275,\n",
       " 'chain': 276,\n",
       " 'against': 277,\n",
       " 'across': 278,\n",
       " 'shops': 279,\n",
       " '10': 280,\n",
       " 'she': 281,\n",
       " 'pay': 282,\n",
       " 'response': 283,\n",
       " 'family': 284,\n",
       " 'medical': 285,\n",
       " 'industry': 286,\n",
       " 'gloves': 287,\n",
       " 'put': 288,\n",
       " '000': 289,\n",
       " 'goods': 290,\n",
       " 'house': 291,\n",
       " 'come': 292,\n",
       " 'state': 293,\n",
       " 'report': 294,\n",
       " 'must': 295,\n",
       " 'anyone': 296,\n",
       " 'closed': 297,\n",
       " 'needs': 298,\n",
       " 'few': 299,\n",
       " 'increase': 300,\n",
       " 'year': 301,\n",
       " 'markets': 302,\n",
       " 'amazon': 303,\n",
       " 'life': 304,\n",
       " 'hoarding': 305,\n",
       " 'fight': 306,\n",
       " 'increased': 307,\n",
       " 'community': 308,\n",
       " 'groceries': 309,\n",
       " 'scams': 310,\n",
       " 'sales': 311,\n",
       " 'economic': 312,\n",
       " 'self': 313,\n",
       " 'vulnerable': 314,\n",
       " 'small': 315,\n",
       " 'everything': 316,\n",
       " 'trying': 317,\n",
       " 'best': 318,\n",
       " 'big': 319,\n",
       " 'protect': 320,\n",
       " 'post': 321,\n",
       " 'same': 322,\n",
       " 'emergency': 323,\n",
       " 'call': 324,\n",
       " 'china': 325,\n",
       " 'without': 326,\n",
       " 'coronavirus\\r\\r': 327,\n",
       " 'behavior': 328,\n",
       " 'thanks': 329,\n",
       " 'never': 330,\n",
       " 'elderly': 331,\n",
       " 'etc': 332,\n",
       " 'latest': 333,\n",
       " 'per': 334,\n",
       " 'thing': 335,\n",
       " 'live': 336,\n",
       " '20': 337,\n",
       " 'already': 338,\n",
       " '6': 339,\n",
       " 'real': 340,\n",
       " 'made': 341,\n",
       " 'each': 342,\n",
       " 'place': 343,\n",
       " 'drivers': 344,\n",
       " \"can't\": 345,\n",
       " 'give': 346,\n",
       " 'seen': 347,\n",
       " 'data': 348,\n",
       " 'continue': 349,\n",
       " 'banks': 350,\n",
       " 'sure': 351,\n",
       " 'close': 352,\n",
       " 'healthcare': 353,\n",
       " 'gt': 354,\n",
       " 'let': 355,\n",
       " 'trump': 356,\n",
       " 'someone': 357,\n",
       " 'such': 358,\n",
       " 'learn': 359,\n",
       " 'did': 360,\n",
       " 'looking': 361,\n",
       " 'using': 362,\n",
       " 'share': 363,\n",
       " 'having': 364,\n",
       " 'retailers': 365,\n",
       " 'information': 366,\n",
       " 'better': 367,\n",
       " 'hard': 368,\n",
       " 'cases': 369,\n",
       " 'shoppers': 370,\n",
       " 'coronaviruspandemic': 371,\n",
       " 'avoid': 372,\n",
       " 'important': 373,\n",
       " 'daily': 374,\n",
       " 'situation': 375,\n",
       " 'hit': 376,\n",
       " 'stayhome': 377,\n",
       " 'another': 378,\n",
       " 'morning': 379,\n",
       " 'lot': 380,\n",
       " 'bank': 381,\n",
       " 'does': 382,\n",
       " 'together': 383,\n",
       " 'protection': 384,\n",
       " 'person': 385,\n",
       " 'left': 386,\n",
       " 'job': 387,\n",
       " 'coronavirusoutbreak': 388,\n",
       " 'drop': 389,\n",
       " 'hope': 390,\n",
       " 'water': 391,\n",
       " 'canâ\\x92t': 392,\n",
       " 'away': 393,\n",
       " 'under': 394,\n",
       " 'production': 395,\n",
       " 'spending': 396,\n",
       " 'front': 397,\n",
       " 'financial': 398,\n",
       " 'able': 399,\n",
       " 'part': 400,\n",
       " 'coming': 401,\n",
       " 'own': 402,\n",
       " 'list': 403,\n",
       " 'current': 404,\n",
       " 'might': 405,\n",
       " 'change': 406,\n",
       " 'related': 407,\n",
       " 'ever': 408,\n",
       " 'selling': 409,\n",
       " 'don': 410,\n",
       " 'end': 411,\n",
       " 'key': 412,\n",
       " 'until': 413,\n",
       " 'tesco': 414,\n",
       " 'nhs': 415,\n",
       " 'safety': 416,\n",
       " 'run': 417,\n",
       " 'normal': 418,\n",
       " 'india': 419,\n",
       " 'little': 420,\n",
       " 'less': 421,\n",
       " 'measures': 422,\n",
       " 'least': 423,\n",
       " 'â\\x94': 424,\n",
       " 'essentials': 425,\n",
       " 'company': 426,\n",
       " 'stayathome': 427,\n",
       " 'tips': 428,\n",
       " 'meet': 429,\n",
       " 'positive': 430,\n",
       " 'start': 431,\n",
       " '100': 432,\n",
       " 'police': 433,\n",
       " 'contact': 434,\n",
       " 'wash': 435,\n",
       " 'leave': 436,\n",
       " 'outside': 437,\n",
       " 'feel': 438,\n",
       " 'cut': 439,\n",
       " 'seeing': 440,\n",
       " 'told': 441,\n",
       " 'panicbuying': 442,\n",
       " 'fall': 443,\n",
       " 'w': 444,\n",
       " 'jobs': 445,\n",
       " 'remember': 446,\n",
       " 'restaurants': 447,\n",
       " 'man': 448,\n",
       " 'milk': 449,\n",
       " 'including': 450,\n",
       " '7': 451,\n",
       " 'again': 452,\n",
       " 'stayhomesavelives': 453,\n",
       " 'months': 454,\n",
       " 'years': 455,\n",
       " 'helping': 456,\n",
       " 'sick': 457,\n",
       " 'april': 458,\n",
       " 'chains': 459,\n",
       " 'm': 460,\n",
       " '50': 461,\n",
       " 'nothing': 462,\n",
       " 'travel': 463,\n",
       " 'something': 464,\n",
       " 'else': 465,\n",
       " 'keeping': 466,\n",
       " 'video': 467,\n",
       " 'reports': 468,\n",
       " 'shortage': 469,\n",
       " 'done': 470,\n",
       " 'changes': 471,\n",
       " 'families': 472,\n",
       " 'visit': 473,\n",
       " 'month': 474,\n",
       " 'yet': 475,\n",
       " 'running': 476,\n",
       " 'offering': 477,\n",
       " 'update': 478,\n",
       " 'soap': 479,\n",
       " 'thought': 480,\n",
       " 'lives': 481,\n",
       " 'based': 482,\n",
       " 'possible': 483,\n",
       " 'distance': 484,\n",
       " 'alcohol': 485,\n",
       " 'city': 486,\n",
       " 'likely': 487,\n",
       " 'gouging': 488,\n",
       " '30': 489,\n",
       " 'rise': 490,\n",
       " 'old': 491,\n",
       " 'worker': 492,\n",
       " \"we're\": 493,\n",
       " 'stophoarding': 494,\n",
       " 'farmers': 495,\n",
       " 'provide': 496,\n",
       " \"you're\": 497,\n",
       " 'access': 498,\n",
       " 'needed': 499,\n",
       " 'wearing': 500,\n",
       " 'set': 501,\n",
       " 'advice': 502,\n",
       " 'hospital': 503,\n",
       " 'lines': 504,\n",
       " 'bad': 505,\n",
       " '8': 506,\n",
       " 'isolation': 507,\n",
       " 'stocked': 508,\n",
       " 'relief': 509,\n",
       " 'e': 510,\n",
       " 'roll': 511,\n",
       " 'soon': 512,\n",
       " 'yourself': 513,\n",
       " 'try': 514,\n",
       " 'instead': 515,\n",
       " 'americans': 516,\n",
       " 'pharmacy': 517,\n",
       " 'doctors': 518,\n",
       " 'found': 519,\n",
       " 'brands': 520,\n",
       " 'lower': 521,\n",
       " 'orders': 522,\n",
       " 'higher': 523,\n",
       " 'major': 524,\n",
       " 'prevent': 525,\n",
       " 'tp': 526,\n",
       " 'always': 527,\n",
       " 'number': 528,\n",
       " 'bought': 529,\n",
       " 'drive': 530,\n",
       " 'watch': 531,\n",
       " 'sanitizers': 532,\n",
       " 'used': 533,\n",
       " 'between': 534,\n",
       " 'govt': 535,\n",
       " 'love': 536,\n",
       " 'media': 537,\n",
       " 'wear': 538,\n",
       " 'nurses': 539,\n",
       " 'special': 540,\n",
       " 'website': 541,\n",
       " 'testing': 542,\n",
       " 'friends': 543,\n",
       " 'non': 544,\n",
       " 'shortages': 545,\n",
       " 'info': 546,\n",
       " 'healthy': 547,\n",
       " 'walmart': 548,\n",
       " 'advantage': 549,\n",
       " 'anything': 550,\n",
       " 'far': 551,\n",
       " 'once': 552,\n",
       " 'ensure': 553,\n",
       " 'deal': 554,\n",
       " '19\\r\\r': 555,\n",
       " 'â\\x97': 556,\n",
       " 'follow': 557,\n",
       " 'yesterday': 558,\n",
       " 'especially': 559,\n",
       " \"i've\": 560,\n",
       " 'putting': 561,\n",
       " 'article': 562,\n",
       " 'car': 563,\n",
       " 'top': 564,\n",
       " 'hour': 565,\n",
       " '15': 566,\n",
       " 'remain': 567,\n",
       " 'almost': 568,\n",
       " 'affected': 569,\n",
       " 'whole': 570,\n",
       " 'result': 571,\n",
       " 'means': 572,\n",
       " 'gone': 573,\n",
       " 'paid': 574,\n",
       " 'changing': 575,\n",
       " 'youâ\\x92re': 576,\n",
       " 'kids': 577,\n",
       " 'credit': 578,\n",
       " 'following': 579,\n",
       " 'produce': 580,\n",
       " 'understand': 581,\n",
       " 'show': 582,\n",
       " 'ecommerce': 583,\n",
       " 'â\\x96': 584,\n",
       " 'join': 585,\n",
       " 'covid19uk': 586,\n",
       " 'selfish': 587,\n",
       " 'meat': 588,\n",
       " 'restaurant': 589,\n",
       " 'control': 590,\n",
       " 'announced': 591,\n",
       " 'wait': 592,\n",
       " 'area': 593,\n",
       " 'story': 594,\n",
       " 'scammers': 595,\n",
       " '9': 596,\n",
       " 'staysafe': 597,\n",
       " 'surge': 598,\n",
       " 'bread': 599,\n",
       " 'marketing': 600,\n",
       " 'reduce': 601,\n",
       " 'critical': 602,\n",
       " 'russia': 603,\n",
       " 'states': 604,\n",
       " 'coronavirusupdate': 605,\n",
       " 'tested': 606,\n",
       " 'staying': 607,\n",
       " 'sold': 608,\n",
       " 'canada': 609,\n",
       " 'saw': 610,\n",
       " 'energy': 611,\n",
       " 'fresh': 612,\n",
       " 'three': 613,\n",
       " 'million': 614,\n",
       " 'below': 615,\n",
       " 'shut': 616,\n",
       " 'early': 617,\n",
       " 'caused': 618,\n",
       " 'ask': 619,\n",
       " 'research': 620,\n",
       " 'asked': 621,\n",
       " 'heroes': 622,\n",
       " 'facing': 623,\n",
       " 'customer': 624,\n",
       " 'case': 625,\n",
       " 'fear': 626,\n",
       " 'period': 627,\n",
       " 'product': 628,\n",
       " 'system': 629,\n",
       " 'experts': 630,\n",
       " 'moment': 631,\n",
       " 'cash': 632,\n",
       " 'point': 633,\n",
       " 'save': 634,\n",
       " 'ways': 635,\n",
       " 'difficult': 636,\n",
       " 'fast': 637,\n",
       " 'war': 638,\n",
       " 'works': 639,\n",
       " 'queue': 640,\n",
       " 'waiting': 641,\n",
       " 'test': 642,\n",
       " 'extra': 643,\n",
       " 'short': 644,\n",
       " 'trip': 645,\n",
       " 'countries': 646,\n",
       " 'personal': 647,\n",
       " 'huge': 648,\n",
       " 'sell': 649,\n",
       " 'struggling': 650,\n",
       " 'eat': 651,\n",
       " 'weâ\\x92re': 652,\n",
       " 'tell': 653,\n",
       " 'despite': 654,\n",
       " 'term': 655,\n",
       " 'idea': 656,\n",
       " 'sign': 657,\n",
       " 'security': 658,\n",
       " 'actually': 659,\n",
       " \"here's\": 660,\n",
       " 'behaviour': 661,\n",
       " 'stuff': 662,\n",
       " 'trends': 663,\n",
       " 'saying': 664,\n",
       " 'pick': 665,\n",
       " 'maybe': 666,\n",
       " 'woman': 667,\n",
       " 'eggs': 668,\n",
       " 'cannot': 669,\n",
       " '12': 670,\n",
       " 'shift': 671,\n",
       " 'different': 672,\n",
       " 'offer': 673,\n",
       " 'taken': 674,\n",
       " 'cleaning': 675,\n",
       " 'rolls': 676,\n",
       " 'iâ\\x92ve': 677,\n",
       " 'given': 678,\n",
       " 'further': 679,\n",
       " 'reduced': 680,\n",
       " 'die': 681,\n",
       " 'kind': 682,\n",
       " 'yes': 683,\n",
       " 'both': 684,\n",
       " 'ago': 685,\n",
       " 'limit': 686,\n",
       " 'national': 687,\n",
       " 'large': 688,\n",
       " 'consider': 689,\n",
       " 'crazy': 690,\n",
       " 'currently': 691,\n",
       " 'become': 692,\n",
       " 'themselves': 693,\n",
       " '25': 694,\n",
       " 'donate': 695,\n",
       " 'america': 696,\n",
       " 'clean': 697,\n",
       " 'shows': 698,\n",
       " 'fuel': 699,\n",
       " 'handsanitizer': 700,\n",
       " 'purchase': 701,\n",
       " 'increasing': 702,\n",
       " 'president': 703,\n",
       " 'drug': 704,\n",
       " \"that's\": 705,\n",
       " 'employee': 706,\n",
       " 'seriously': 707,\n",
       " 'bring': 708,\n",
       " 'recent': 709,\n",
       " 'stocks': 710,\n",
       " 'survive': 711,\n",
       " 'started': 712,\n",
       " 'cost': 713,\n",
       " 'confidence': 714,\n",
       " 'link': 715,\n",
       " 'lost': 716,\n",
       " 'gold': 717,\n",
       " 've': 718,\n",
       " 'closing': 719,\n",
       " 'issues': 720,\n",
       " 'providing': 721,\n",
       " 'concerns': 722,\n",
       " 'alert': 723,\n",
       " 'realdonaldtrump': 724,\n",
       " 'future': 725,\n",
       " 'tomorrow': 726,\n",
       " 'closures': 727,\n",
       " 'quarantinelife': 728,\n",
       " 'restrictions': 729,\n",
       " 'deliveries': 730,\n",
       " 'stoppanicbuying': 731,\n",
       " 'act': 732,\n",
       " 'fears': 733,\n",
       " 'crude': 734,\n",
       " 'insights': 735,\n",
       " 'thinking': 736,\n",
       " 'digital': 737,\n",
       " 'n': 738,\n",
       " 'starting': 739,\n",
       " 'team': 740,\n",
       " \"they're\": 741,\n",
       " \"there's\": 742,\n",
       " 'spreading': 743,\n",
       " 'ppl': 744,\n",
       " 'inside': 745,\n",
       " 'cause': 746,\n",
       " 'mean': 747,\n",
       " 'office': 748,\n",
       " 'updates': 749,\n",
       " 'sector': 750,\n",
       " 'giving': 751,\n",
       " 'italy': 752,\n",
       " 'continues': 753,\n",
       " 'him': 754,\n",
       " 'near': 755,\n",
       " 'questions': 756,\n",
       " 'london': 757,\n",
       " 'changed': 758,\n",
       " 'group': 759,\n",
       " 'general': 760,\n",
       " 'recession': 761,\n",
       " 'stockpiling': 762,\n",
       " 'bit': 763,\n",
       " 'deliver': 764,\n",
       " 'according': 765,\n",
       " 'makes': 766,\n",
       " 'school': 767,\n",
       " 'plan': 768,\n",
       " 'plenty': 769,\n",
       " 'asda': 770,\n",
       " 'worried': 771,\n",
       " 'folks': 772,\n",
       " 'resources': 773,\n",
       " 'goes': 774,\n",
       " 'action': 775,\n",
       " 'expect': 776,\n",
       " 'basic': 777,\n",
       " 'asking': 778,\n",
       " 'sainsburys': 779,\n",
       " 'buyers': 780,\n",
       " 'shit': 781,\n",
       " 'american': 782,\n",
       " 'night': 783,\n",
       " 'trade': 784,\n",
       " 'past': 785,\n",
       " 'wipes': 786,\n",
       " 'hear': 787,\n",
       " 'rs': 788,\n",
       " 'law': 789,\n",
       " 'guys': 790,\n",
       " 'email': 791,\n",
       " 'problem': 792,\n",
       " 'members': 793,\n",
       " 'wrong': 794,\n",
       " 'living': 795,\n",
       " 'federal': 796,\n",
       " 'blog': 797,\n",
       " 'saudi': 798,\n",
       " 'ones': 799,\n",
       " 'allowed': 800,\n",
       " 'hey': 801,\n",
       " 'believe': 802,\n",
       " 'nation': 803,\n",
       " '24': 804,\n",
       " 'direct': 805,\n",
       " 'fucking': 806,\n",
       " 'expected': 807,\n",
       " 'ceo': 808,\n",
       " 'bottle': 809,\n",
       " '60': 810,\n",
       " 'monday': 811,\n",
       " 'survey': 812,\n",
       " 'though': 813,\n",
       " 'allow': 814,\n",
       " 'ppe': 815,\n",
       " 'borisjohnson': 816,\n",
       " 'door': 817,\n",
       " 'falling': 818,\n",
       " 'lots': 819,\n",
       " 'click': 820,\n",
       " 'b': 821,\n",
       " 'calls': 822,\n",
       " 'strong': 823,\n",
       " 'effects': 824,\n",
       " 'raise': 825,\n",
       " 'foods': 826,\n",
       " 'usa': 827,\n",
       " 'ready': 828,\n",
       " 'delivered': 829,\n",
       " 'longer': 830,\n",
       " 'parents': 831,\n",
       " 'experience': 832,\n",
       " 'household': 833,\n",
       " 'coronavirusuk': 834,\n",
       " 'sale': 835,\n",
       " 'message': 836,\n",
       " 'gonna': 837,\n",
       " 'light': 838,\n",
       " 'happy': 839,\n",
       " 'send': 840,\n",
       " 'seems': 841,\n",
       " 'limited': 842,\n",
       " 'looks': 843,\n",
       " 'came': 844,\n",
       " 'county': 845,\n",
       " 'single': 846,\n",
       " 'half': 847,\n",
       " 'hygiene': 848,\n",
       " 'probably': 849,\n",
       " 'rice': 850,\n",
       " 'fighting': 851,\n",
       " 'd': 852,\n",
       " 'pasta': 853,\n",
       " 'worse': 854,\n",
       " 'unprecedented': 855,\n",
       " 'income': 856,\n",
       " 'hospitals': 857,\n",
       " 'ftc': 858,\n",
       " 'interesting': 859,\n",
       " 'plans': 860,\n",
       " 'walk': 861,\n",
       " 'afford': 862,\n",
       " 'efforts': 863,\n",
       " 'listen': 864,\n",
       " 'tests': 865,\n",
       " 'potential': 866,\n",
       " 'temporarily': 867,\n",
       " 'â\\x95': 868,\n",
       " 'wake': 869,\n",
       " 'habits': 870,\n",
       " 'insurance': 871,\n",
       " 'seniors': 872,\n",
       " 'friend': 873,\n",
       " 'nice': 874,\n",
       " 'fuck': 875,\n",
       " '99': 876,\n",
       " 'australia': 877,\n",
       " 'massive': 878,\n",
       " 'necessary': 879,\n",
       " 'side': 880,\n",
       " \"won't\": 881,\n",
       " 'took': 882,\n",
       " 'pack': 883,\n",
       " '14': 884,\n",
       " 'anxiety': 885,\n",
       " 'society': 886,\n",
       " 'reason': 887,\n",
       " 'rising': 888,\n",
       " 'citizens': 889,\n",
       " 'c': 890,\n",
       " 'phone': 891,\n",
       " 'places': 892,\n",
       " 'truck': 893,\n",
       " 'rules': 894,\n",
       " 'however': 895,\n",
       " 'chinese': 896,\n",
       " 'south': 897,\n",
       " 'thereâ\\x92s': 898,\n",
       " 'pm': 899,\n",
       " 'question': 900,\n",
       " 'clear': 901,\n",
       " 'bags': 902,\n",
       " 'forced': 903,\n",
       " 'california': 904,\n",
       " 'street': 905,\n",
       " 'human': 906,\n",
       " 'residents': 907,\n",
       " 'communities': 908,\n",
       " 'thatâ\\x92s': 909,\n",
       " 'spend': 910,\n",
       " 'frontline': 911,\n",
       " 'behind': 912,\n",
       " 'sentiment': 913,\n",
       " 'distribution': 914,\n",
       " 'driving': 915,\n",
       " 'died': 916,\n",
       " 'webinar': 917,\n",
       " 'comes': 918,\n",
       " 'biggest': 919,\n",
       " 'slots': 920,\n",
       " 'opening': 921,\n",
       " 'step': 922,\n",
       " 'donations': 923,\n",
       " 'issue': 924,\n",
       " 'equipment': 925,\n",
       " 'beginning': 926,\n",
       " 'inflated': 927,\n",
       " 'easy': 928,\n",
       " 'notice': 929,\n",
       " 'theyâ\\x92re': 930,\n",
       " 'gov': 931,\n",
       " 'myself': 932,\n",
       " 'several': 933,\n",
       " 'effect': 934,\n",
       " 'details': 935,\n",
       " 'hiking': 936,\n",
       " 'touch': 937,\n",
       " '40': 938,\n",
       " 'easter': 939,\n",
       " 'worth': 940,\n",
       " 'second': 941,\n",
       " 'serious': 942,\n",
       " 'collapse': 943,\n",
       " 'true': 944,\n",
       " 'level': 945,\n",
       " \"let's\": 946,\n",
       " 'opec': 947,\n",
       " 'gets': 948,\n",
       " 'policy': 949,\n",
       " 'god': 950,\n",
       " 'commodities': 951,\n",
       " 'usual': 952,\n",
       " 'amazing': 953,\n",
       " 'ok': 954,\n",
       " 'calling': 955,\n",
       " 'happen': 956,\n",
       " 'impacted': 957,\n",
       " 'growth': 958,\n",
       " 'disease': 959,\n",
       " 'toiletpaperpanic': 960,\n",
       " 'challenges': 961,\n",
       " 'showing': 962,\n",
       " 'apart': 963,\n",
       " 'department': 964,\n",
       " 'pretty': 965,\n",
       " 'responders': 966,\n",
       " 'called': 967,\n",
       " 'washing': 968,\n",
       " 'finally': 969,\n",
       " 'hoarders': 970,\n",
       " 'regarding': 971,\n",
       " 'coughing': 972,\n",
       " 'commerce': 973,\n",
       " 'cure': 974,\n",
       " 'covid19\\r\\r': 975,\n",
       " 'death': 976,\n",
       " 'record': 977,\n",
       " 'symptoms': 978,\n",
       " 'hoard': 979,\n",
       " 'move': 980,\n",
       " 'kill': 981,\n",
       " 'ebay': 982,\n",
       " 'homes': 983,\n",
       " 'poor': 984,\n",
       " 'rather': 985,\n",
       " 'toiletpapercrisis': 986,\n",
       " 'impacts': 987,\n",
       " 'rate': 988,\n",
       " 'wine': 989,\n",
       " 'minister': 990,\n",
       " 'housing': 991,\n",
       " 'priority': 992,\n",
       " 'forget': 993,\n",
       " 'benefits': 994,\n",
       " 'growing': 995,\n",
       " 'talk': 996,\n",
       " 'donating': 997,\n",
       " 'couple': 998,\n",
       " 'dear': 999,\n",
       " 'fake': 1000,\n",
       " ...}"
      ]
     },
     "execution_count": 14,
     "metadata": {},
     "output_type": "execute_result"
    }
   ],
   "source": [
    "tokenizer.word_index\n",
    "#Одни из популярных слов - fake, donating, toiletpapercrisis, ebay и др."
   ]
  },
  {
   "cell_type": "code",
   "execution_count": 15,
   "id": "KyvXqSMFPnUS",
   "metadata": {
    "id": "KyvXqSMFPnUS"
   },
   "outputs": [],
   "source": [
    "#Ищем длину вектора\n",
    "lens = np.array([len(e) for e in X_train])"
   ]
  },
  {
   "cell_type": "code",
   "execution_count": 16,
   "id": "22IiX9LVPq3J",
   "metadata": {
    "colab": {
     "base_uri": "https://localhost:8080/"
    },
    "id": "22IiX9LVPq3J",
    "outputId": "bf082bf4-ca0d-48ab-aa87-3231a173ecda"
   },
   "outputs": [
    {
     "name": "stdout",
     "output_type": "stream",
     "text": [
      "204.80268369822213\n",
      "215.0\n",
      "355\n",
      "11\n"
     ]
    }
   ],
   "source": [
    "print(np.mean(lens))\n",
    "print(np.median(lens))\n",
    "print(np.max(lens))\n",
    "print(np.min(lens))"
   ]
  },
  {
   "cell_type": "code",
   "execution_count": 17,
   "id": "e3iL83ZKPEyz",
   "metadata": {
    "id": "e3iL83ZKPEyz"
   },
   "outputs": [],
   "source": [
    "#Векторизация и пэддинг\n",
    "inputSeqLength = 256\n",
    "\n",
    "X_train_seq = tokenizer.texts_to_sequences(X_train)\n",
    "X_test_seq = tokenizer.texts_to_sequences(X_test)\n",
    "\n",
    "X_train_pad = pad_sequences(X_train_seq, maxlen=inputSeqLength, padding='post', truncating = \"post\")\n",
    "X_test_pad = pad_sequences(X_test_seq, maxlen=inputSeqLength, padding='post', truncating = \"post\")"
   ]
  },
  {
   "cell_type": "code",
   "execution_count": 18,
   "id": "366K7WTJUmPv",
   "metadata": {
    "colab": {
     "base_uri": "https://localhost:8080/"
    },
    "id": "366K7WTJUmPv",
    "outputId": "cdb9f940-5047-4987-aae1-ad0a039337c4"
   },
   "outputs": [
    {
     "data": {
      "text/plain": [
       "array([ 30, 186,   8,   1, 184,  13,  12, 625, 844,  47,   8, 845, 199,\n",
       "       159,  36,   2, 593, 122,   2, 701, 675, 196,  86,  77,  23, 109,\n",
       "       113,   7, 107, 290, 468,   6,   4,   5,   0,   0,   0,   0,   0,\n",
       "         0,   0,   0,   0,   0,   0,   0,   0,   0,   0,   0,   0,   0,\n",
       "         0,   0,   0,   0,   0,   0,   0,   0,   0,   0,   0,   0,   0,\n",
       "         0,   0,   0,   0,   0,   0,   0,   0,   0,   0,   0,   0,   0,\n",
       "         0,   0,   0,   0,   0,   0,   0,   0,   0,   0,   0,   0,   0,\n",
       "         0,   0,   0,   0,   0,   0,   0,   0,   0,   0,   0,   0,   0,\n",
       "         0,   0,   0,   0,   0,   0,   0,   0,   0,   0,   0,   0,   0,\n",
       "         0,   0,   0,   0,   0,   0,   0,   0,   0,   0,   0,   0,   0,\n",
       "         0,   0,   0,   0,   0,   0,   0,   0,   0,   0,   0,   0,   0,\n",
       "         0,   0,   0,   0,   0,   0,   0,   0,   0,   0,   0,   0,   0,\n",
       "         0,   0,   0,   0,   0,   0,   0,   0,   0,   0,   0,   0,   0,\n",
       "         0,   0,   0,   0,   0,   0,   0,   0,   0,   0,   0,   0,   0,\n",
       "         0,   0,   0,   0,   0,   0,   0,   0,   0,   0,   0,   0,   0,\n",
       "         0,   0,   0,   0,   0,   0,   0,   0,   0,   0,   0,   0,   0,\n",
       "         0,   0,   0,   0,   0,   0,   0,   0,   0,   0,   0,   0,   0,\n",
       "         0,   0,   0,   0,   0,   0,   0,   0,   0,   0,   0,   0,   0,\n",
       "         0,   0,   0,   0,   0,   0,   0,   0,   0,   0,   0,   0,   0,\n",
       "         0,   0,   0,   0,   0,   0,   0,   0,   0], dtype=int32)"
      ]
     },
     "execution_count": 18,
     "metadata": {},
     "output_type": "execute_result"
    }
   ],
   "source": [
    "X_train_pad[3]"
   ]
  },
  {
   "cell_type": "code",
   "execution_count": 19,
   "id": "HJEzdtAkVrKm",
   "metadata": {
    "colab": {
     "base_uri": "https://localhost:8080/"
    },
    "id": "HJEzdtAkVrKm",
    "outputId": "51e820a5-f6ba-4423-b94f-019c927b6127"
   },
   "outputs": [
    {
     "data": {
      "text/plain": [
       "(32567, 256)"
      ]
     },
     "execution_count": 19,
     "metadata": {},
     "output_type": "execute_result"
    }
   ],
   "source": [
    "#3. Посмотреть, что больше влияет на качество обучения:\n",
    "#   - увеличение количества слов в словаре,\n",
    "#   - выходная размерность эмбеддинга\n",
    "#   - количество элементов LSTM/GRU\n",
    "inputShape = X_train_pad.shape[1]\n",
    "X_train_pad.shape"
   ]
  },
  {
   "cell_type": "code",
   "execution_count": 20,
   "id": "g37KRROOWCa3",
   "metadata": {
    "id": "g37KRROOWCa3"
   },
   "outputs": [],
   "source": [
    "txtModel = Sequential([\n",
    "    Input(shape = (inputShape, )),\n",
    "    # Параметры слоя эмбеддинга:\n",
    "    # input_dim - задает размер словаря (если задать некорректно, то будет ошибка вычислений)\n",
    "    # output_dim - размерность выходных векторов эмбединга\n",
    "    # input_length - размернсть входных последовательнстей\n",
    "    Embedding(input_dim = maxWordCount, output_dim = 16), #, input_length = inputShape),\n",
    "    #LSTM( units = 32 ),\n",
    "    Bidirectional(GRU( units = 32 )),\n",
    "    Dense(64, activation='relu'),\n",
    "    Dropout(0.4),\n",
    "    Dense(units = 3, activation = \"softmax\")\n",
    "])\n",
    "\n",
    "txtModel.compile( loss = \"sparse_categorical_crossentropy\",\n",
    "                  optimizer = \"adam\", metrics = [\"sparse_categorical_accuracy\"])"
   ]
  },
  {
   "cell_type": "code",
   "execution_count": 21,
   "id": "SLMnnqojWHm4",
   "metadata": {
    "colab": {
     "base_uri": "https://localhost:8080/"
    },
    "id": "SLMnnqojWHm4",
    "outputId": "233c0955-ed39-4815-da52-7e3537817ab8"
   },
   "outputs": [
    {
     "name": "stdout",
     "output_type": "stream",
     "text": [
      "Epoch 1/10\n",
      "\u001b[1m815/815\u001b[0m \u001b[32m━━━━━━━━━━━━━━━━━━━━\u001b[0m\u001b[37m\u001b[0m \u001b[1m56s\u001b[0m 68ms/step - loss: 0.9582 - sparse_categorical_accuracy: 0.5109 - val_loss: 0.6910 - val_sparse_categorical_accuracy: 0.7140\n",
      "Epoch 2/10\n",
      "\u001b[1m815/815\u001b[0m \u001b[32m━━━━━━━━━━━━━━━━━━━━\u001b[0m\u001b[37m\u001b[0m \u001b[1m59s\u001b[0m 72ms/step - loss: 0.6649 - sparse_categorical_accuracy: 0.7342 - val_loss: 0.6460 - val_sparse_categorical_accuracy: 0.7364\n",
      "Epoch 3/10\n",
      "\u001b[1m815/815\u001b[0m \u001b[32m━━━━━━━━━━━━━━━━━━━━\u001b[0m\u001b[37m\u001b[0m \u001b[1m58s\u001b[0m 72ms/step - loss: 0.6436 - sparse_categorical_accuracy: 0.7452 - val_loss: 0.6525 - val_sparse_categorical_accuracy: 0.7343\n",
      "Epoch 4/10\n",
      "\u001b[1m815/815\u001b[0m \u001b[32m━━━━━━━━━━━━━━━━━━━━\u001b[0m\u001b[37m\u001b[0m \u001b[1m59s\u001b[0m 72ms/step - loss: 0.6262 - sparse_categorical_accuracy: 0.7536 - val_loss: 0.6441 - val_sparse_categorical_accuracy: 0.7392\n",
      "Epoch 5/10\n",
      "\u001b[1m815/815\u001b[0m \u001b[32m━━━━━━━━━━━━━━━━━━━━\u001b[0m\u001b[37m\u001b[0m \u001b[1m59s\u001b[0m 72ms/step - loss: 0.6196 - sparse_categorical_accuracy: 0.7581 - val_loss: 0.6429 - val_sparse_categorical_accuracy: 0.7347\n",
      "Epoch 6/10\n",
      "\u001b[1m815/815\u001b[0m \u001b[32m━━━━━━━━━━━━━━━━━━━━\u001b[0m\u001b[37m\u001b[0m \u001b[1m60s\u001b[0m 73ms/step - loss: 0.6241 - sparse_categorical_accuracy: 0.7535 - val_loss: 0.6509 - val_sparse_categorical_accuracy: 0.7309\n",
      "Epoch 7/10\n",
      "\u001b[1m815/815\u001b[0m \u001b[32m━━━━━━━━━━━━━━━━━━━━\u001b[0m\u001b[37m\u001b[0m \u001b[1m60s\u001b[0m 74ms/step - loss: 0.6035 - sparse_categorical_accuracy: 0.7606 - val_loss: 0.6525 - val_sparse_categorical_accuracy: 0.7338\n",
      "Epoch 8/10\n",
      "\u001b[1m815/815\u001b[0m \u001b[32m━━━━━━━━━━━━━━━━━━━━\u001b[0m\u001b[37m\u001b[0m \u001b[1m59s\u001b[0m 72ms/step - loss: 0.6054 - sparse_categorical_accuracy: 0.7604 - val_loss: 0.6477 - val_sparse_categorical_accuracy: 0.7353\n",
      "Epoch 9/10\n",
      "\u001b[1m815/815\u001b[0m \u001b[32m━━━━━━━━━━━━━━━━━━━━\u001b[0m\u001b[37m\u001b[0m \u001b[1m59s\u001b[0m 73ms/step - loss: 0.5893 - sparse_categorical_accuracy: 0.7692 - val_loss: 0.6555 - val_sparse_categorical_accuracy: 0.7370\n",
      "Epoch 10/10\n",
      "\u001b[1m815/815\u001b[0m \u001b[32m━━━━━━━━━━━━━━━━━━━━\u001b[0m\u001b[37m\u001b[0m \u001b[1m60s\u001b[0m 73ms/step - loss: 0.5841 - sparse_categorical_accuracy: 0.7674 - val_loss: 0.6534 - val_sparse_categorical_accuracy: 0.7321\n"
     ]
    }
   ],
   "source": [
    "hist = txtModel.fit(X_train_pad, Y_train, epochs = 10, batch_size = 32, validation_split = 0.2 )"
   ]
  },
  {
   "cell_type": "code",
   "execution_count": 22,
   "id": "Uco9SOWGeAx8",
   "metadata": {
    "id": "Uco9SOWGeAx8"
   },
   "outputs": [],
   "source": [
    "txtModel.save(\"GRU_ep10-b32.keras\")"
   ]
  },
  {
   "cell_type": "code",
   "execution_count": 23,
   "id": "t8bYnl_nWLCm",
   "metadata": {
    "colab": {
     "base_uri": "https://localhost:8080/"
    },
    "id": "t8bYnl_nWLCm",
    "outputId": "a69d9262-92d8-4ee7-e47e-68245a2c1c95"
   },
   "outputs": [
    {
     "name": "stdout",
     "output_type": "stream",
     "text": [
      "\u001b[1m93/93\u001b[0m \u001b[32m━━━━━━━━━━━━━━━━━━━━\u001b[0m\u001b[37m\u001b[0m \u001b[1m1s\u001b[0m 13ms/step - loss: 0.6510 - sparse_categorical_accuracy: 0.7273\n"
     ]
    },
    {
     "data": {
      "text/plain": [
       "[0.6687759757041931, 0.7179487347602844]"
      ]
     },
     "execution_count": 23,
     "metadata": {},
     "output_type": "execute_result"
    }
   ],
   "source": [
    "txtModel.evaluate(X_test_pad, Y_test)\n",
    "#0.680939257144928, 0.7145748734474182"
   ]
  },
  {
   "cell_type": "code",
   "execution_count": 24,
   "id": "SmyDB0caWOCO",
   "metadata": {
    "colab": {
     "base_uri": "https://localhost:8080/",
     "height": 453
    },
    "id": "SmyDB0caWOCO",
    "outputId": "d3a5523d-13dc-48e0-c6a9-362daa069a24"
   },
   "outputs": [
    {
     "data": {
      "image/png": "[encoded data removed]",
      "text/plain": [
       "<Figure size 640x480 with 1 Axes>"
      ]
     },
     "metadata": {},
     "output_type": "display_data"
    }
   ],
   "source": [
    "plt.plot( hist.history[\"loss\"], label = \"Loss\" )\n",
    "plt.plot( hist.history[\"sparse_categorical_accuracy\"], label = \"Accuracy\" )\n",
    "plt.plot( hist.history[\"val_sparse_categorical_accuracy\"], label = \"Val. Accuracy\" )\n",
    "plt.xlabel(\"Epochs\")\n",
    "plt.ylabel(\"Loss / Accuracy\")\n",
    "plt.legend()\n",
    "plt.show()"
   ]
  },
  {
   "cell_type": "markdown",
   "id": "enCGDXGajF9o",
   "metadata": {
    "id": "enCGDXGajF9o"
   },
   "source": [
    "Увеличиваем количество слов в словаре"
   ]
  },
  {
   "cell_type": "code",
   "execution_count": 26,
   "id": "MZN-Ay1cjXPO",
   "metadata": {
    "id": "MZN-Ay1cjXPO"
   },
   "outputs": [],
   "source": [
    "#Токенизация\n",
    "maxWordCount = 2000 # количество слов в словаре\n",
    "\n",
    "tokenizer = Tokenizer(maxWordCount)\n",
    "tokenizer.fit_on_texts(X_train.to_numpy())"
   ]
  },
  {
   "cell_type": "code",
   "execution_count": 27,
   "id": "TOxS3fXxjXPO",
   "metadata": {
    "id": "TOxS3fXxjXPO"
   },
   "outputs": [],
   "source": [
    "#Векторизация и пэддинг\n",
    "inputSeqLength = 256\n",
    "\n",
    "X_train_seq = tokenizer.texts_to_sequences(X_train)\n",
    "X_test_seq = tokenizer.texts_to_sequences(X_test)\n",
    "\n",
    "X_train_pad = pad_sequences(X_train_seq, maxlen=inputSeqLength, padding='post', truncating = \"post\")\n",
    "X_test_pad = pad_sequences(X_test_seq, maxlen=inputSeqLength, padding='post', truncating = \"post\")"
   ]
  },
  {
   "cell_type": "code",
   "execution_count": 28,
   "id": "r6UbhTRYjXPP",
   "metadata": {
    "colab": {
     "base_uri": "https://localhost:8080/"
    },
    "id": "r6UbhTRYjXPP",
    "outputId": "7e4f7446-0115-461b-d0be-97402c01d9b6"
   },
   "outputs": [
    {
     "data": {
      "text/plain": [
       "(32567, 256)"
      ]
     },
     "execution_count": 28,
     "metadata": {},
     "output_type": "execute_result"
    }
   ],
   "source": [
    "#3. Посмотреть, что больше влияет на качество обучения:\n",
    "#   - увеличение количества слов в словаре,\n",
    "#   - выходная размерность эмбеддинга\n",
    "#   - количество элементов LSTM/GRU\n",
    "inputShape = X_train_pad.shape[1]\n",
    "X_train_pad.shape"
   ]
  },
  {
   "cell_type": "code",
   "execution_count": 29,
   "id": "q9Pq6z52iKyY",
   "metadata": {
    "id": "q9Pq6z52iKyY"
   },
   "outputs": [],
   "source": [
    "more_words_model = Sequential([\n",
    "    Input(shape = (inputShape, )),\n",
    "    Embedding(input_dim = maxWordCount, output_dim = 16),\n",
    "    Bidirectional(GRU( units = 32 )),\n",
    "    Dense(64, activation='relu'),\n",
    "    Dropout(0.4),\n",
    "    Dense(units = 3, activation = \"softmax\")\n",
    "])\n",
    "\n",
    "more_words_model.compile( loss = \"sparse_categorical_crossentropy\",\n",
    "                  optimizer = \"adam\", metrics = [\"sparse_categorical_accuracy\"])"
   ]
  },
  {
   "cell_type": "code",
   "execution_count": 30,
   "id": "AZrJk24UjzVo",
   "metadata": {
    "colab": {
     "base_uri": "https://localhost:8080/"
    },
    "id": "AZrJk24UjzVo",
    "outputId": "b8b90fec-b195-436e-b123-8f0925137e50"
   },
   "outputs": [
    {
     "name": "stdout",
     "output_type": "stream",
     "text": [
      "Epoch 1/10\n",
      "\u001b[1m815/815\u001b[0m \u001b[32m━━━━━━━━━━━━━━━━━━━━\u001b[0m\u001b[37m\u001b[0m \u001b[1m56s\u001b[0m 68ms/step - loss: 0.9619 - sparse_categorical_accuracy: 0.5037 - val_loss: 0.6056 - val_sparse_categorical_accuracy: 0.7657\n",
      "Epoch 2/10\n",
      "\u001b[1m815/815\u001b[0m \u001b[32m━━━━━━━━━━━━━━━━━━━━\u001b[0m\u001b[37m\u001b[0m \u001b[1m58s\u001b[0m 71ms/step - loss: 0.5586 - sparse_categorical_accuracy: 0.7957 - val_loss: 0.5532 - val_sparse_categorical_accuracy: 0.7931\n",
      "Epoch 3/10\n",
      "\u001b[1m815/815\u001b[0m \u001b[32m━━━━━━━━━━━━━━━━━━━━\u001b[0m\u001b[37m\u001b[0m \u001b[1m58s\u001b[0m 71ms/step - loss: 0.5245 - sparse_categorical_accuracy: 0.8123 - val_loss: 0.5499 - val_sparse_categorical_accuracy: 0.8049\n",
      "Epoch 4/10\n",
      "\u001b[1m815/815\u001b[0m \u001b[32m━━━━━━━━━━━━━━━━━━━━\u001b[0m\u001b[37m\u001b[0m \u001b[1m58s\u001b[0m 71ms/step - loss: 0.5014 - sparse_categorical_accuracy: 0.8213 - val_loss: 0.5407 - val_sparse_categorical_accuracy: 0.8030\n",
      "Epoch 5/10\n",
      "\u001b[1m815/815\u001b[0m \u001b[32m━━━━━━━━━━━━━━━━━━━━\u001b[0m\u001b[37m\u001b[0m \u001b[1m58s\u001b[0m 71ms/step - loss: 0.4889 - sparse_categorical_accuracy: 0.8277 - val_loss: 0.5555 - val_sparse_categorical_accuracy: 0.7987\n",
      "Epoch 6/10\n",
      "\u001b[1m815/815\u001b[0m \u001b[32m━━━━━━━━━━━━━━━━━━━━\u001b[0m\u001b[37m\u001b[0m \u001b[1m58s\u001b[0m 71ms/step - loss: 0.4718 - sparse_categorical_accuracy: 0.8326 - val_loss: 0.5613 - val_sparse_categorical_accuracy: 0.7994\n",
      "Epoch 7/10\n",
      "\u001b[1m815/815\u001b[0m \u001b[32m━━━━━━━━━━━━━━━━━━━━\u001b[0m\u001b[37m\u001b[0m \u001b[1m58s\u001b[0m 71ms/step - loss: 0.4576 - sparse_categorical_accuracy: 0.8371 - val_loss: 0.5756 - val_sparse_categorical_accuracy: 0.7839\n",
      "Epoch 8/10\n",
      "\u001b[1m815/815\u001b[0m \u001b[32m━━━━━━━━━━━━━━━━━━━━\u001b[0m\u001b[37m\u001b[0m \u001b[1m58s\u001b[0m 71ms/step - loss: 0.4369 - sparse_categorical_accuracy: 0.8434 - val_loss: 0.5784 - val_sparse_categorical_accuracy: 0.7888\n",
      "Epoch 9/10\n",
      "\u001b[1m815/815\u001b[0m \u001b[32m━━━━━━━━━━━━━━━━━━━━\u001b[0m\u001b[37m\u001b[0m \u001b[1m58s\u001b[0m 71ms/step - loss: 0.4254 - sparse_categorical_accuracy: 0.8473 - val_loss: 0.6013 - val_sparse_categorical_accuracy: 0.7835\n",
      "Epoch 10/10\n",
      "\u001b[1m815/815\u001b[0m \u001b[32m━━━━━━━━━━━━━━━━━━━━\u001b[0m\u001b[37m\u001b[0m \u001b[1m58s\u001b[0m 72ms/step - loss: 0.4031 - sparse_categorical_accuracy: 0.8520 - val_loss: 0.6126 - val_sparse_categorical_accuracy: 0.7809\n"
     ]
    }
   ],
   "source": [
    "hist = more_words_model.fit(X_train_pad, Y_train, epochs = 10, batch_size = 32, validation_split = 0.2 )"
   ]
  },
  {
   "cell_type": "code",
   "execution_count": 31,
   "id": "lWdRaNBjj0nP",
   "metadata": {
    "id": "lWdRaNBjj0nP"
   },
   "outputs": [],
   "source": [
    "more_words_model.save(\"more_words_model.keras\")"
   ]
  },
  {
   "cell_type": "code",
   "execution_count": 32,
   "id": "1lwtTkSesbVA",
   "metadata": {
    "colab": {
     "base_uri": "https://localhost:8080/"
    },
    "id": "1lwtTkSesbVA",
    "outputId": "1066eced-d83f-45e8-eb48-fa322b605157"
   },
   "outputs": [
    {
     "name": "stdout",
     "output_type": "stream",
     "text": [
      "\u001b[1m93/93\u001b[0m \u001b[32m━━━━━━━━━━━━━━━━━━━━\u001b[0m\u001b[37m\u001b[0m \u001b[1m1s\u001b[0m 13ms/step - loss: 0.6056 - sparse_categorical_accuracy: 0.7704\n"
     ]
    },
    {
     "data": {
      "text/plain": [
       "[0.611518919467926, 0.7746288776397705]"
      ]
     },
     "execution_count": 32,
     "metadata": {},
     "output_type": "execute_result"
    }
   ],
   "source": [
    "more_words_model.evaluate(X_test_pad, Y_test)\n",
    "#0.595940113067627, 0.7749662399291992"
   ]
  },
  {
   "cell_type": "code",
   "execution_count": 33,
   "id": "aD6OKYlJs0px",
   "metadata": {
    "colab": {
     "base_uri": "https://localhost:8080/",
     "height": 472
    },
    "id": "aD6OKYlJs0px",
    "outputId": "f36d6a31-b417-406c-c123-a813c80dd019"
   },
   "outputs": [
    {
     "data": {
      "image/png": "[encoded data removed]",
      "text/plain": [
       "<Figure size 640x480 with 1 Axes>"
      ]
     },
     "metadata": {},
     "output_type": "display_data"
    }
   ],
   "source": [
    "plt.plot( hist.history[\"loss\"], label = \"Loss\" )\n",
    "plt.plot( hist.history[\"sparse_categorical_accuracy\"], label = \"Accuracy\" )\n",
    "plt.plot( hist.history[\"val_sparse_categorical_accuracy\"], label = \"Val. Accuracy\" )\n",
    "plt.xlabel(\"Epochs\")\n",
    "plt.ylabel(\"Loss / Accuracy\")\n",
    "plt.title(\"Анализ тональности с увеличенным словарём\")\n",
    "plt.legend()\n",
    "plt.show()"
   ]
  },
  {
   "cell_type": "markdown",
   "id": "KbGr0_4ZtOsm",
   "metadata": {
    "id": "KbGr0_4ZtOsm"
   },
   "source": [
    "Увеличиваем выходную размерность эмбеддинга"
   ]
  },
  {
   "cell_type": "code",
   "execution_count": 35,
   "id": "LvkwV5wGtOsn",
   "metadata": {
    "id": "LvkwV5wGtOsn"
   },
   "outputs": [],
   "source": [
    "#Токенизация\n",
    "maxWordCount = 1000 # количество слов в словаре\n",
    "\n",
    "tokenizer = Tokenizer(maxWordCount)\n",
    "tokenizer.fit_on_texts(X_train.to_numpy())"
   ]
  },
  {
   "cell_type": "code",
   "execution_count": 36,
   "id": "wMnetU4YtOsp",
   "metadata": {
    "id": "wMnetU4YtOsp"
   },
   "outputs": [],
   "source": [
    "#Векторизация и пэддинг\n",
    "inputSeqLength = 256\n",
    "\n",
    "X_train_seq = tokenizer.texts_to_sequences(X_train)\n",
    "X_test_seq = tokenizer.texts_to_sequences(X_test)\n",
    "\n",
    "X_train_pad = pad_sequences(X_train_seq, maxlen=inputSeqLength, padding='post', truncating = \"post\")\n",
    "X_test_pad = pad_sequences(X_test_seq, maxlen=inputSeqLength, padding='post', truncating = \"post\")"
   ]
  },
  {
   "cell_type": "code",
   "execution_count": 37,
   "id": "twAo9ogRtOsq",
   "metadata": {
    "colab": {
     "base_uri": "https://localhost:8080/"
    },
    "id": "twAo9ogRtOsq",
    "outputId": "6facd338-f394-45fe-8fe3-63802c8bbda6"
   },
   "outputs": [
    {
     "data": {
      "text/plain": [
       "(32567, 256)"
      ]
     },
     "execution_count": 37,
     "metadata": {},
     "output_type": "execute_result"
    }
   ],
   "source": [
    "#3. Посмотреть, что больше влияет на качество обучения:\n",
    "#   - увеличение количества слов в словаре,\n",
    "#   - выходная размерность эмбеддинга\n",
    "#   - количество элементов LSTM/GRU\n",
    "inputShape = X_train_pad.shape[1]\n",
    "X_train_pad.shape"
   ]
  },
  {
   "cell_type": "code",
   "execution_count": 38,
   "id": "ak_Bc3LatOsr",
   "metadata": {
    "id": "ak_Bc3LatOsr"
   },
   "outputs": [],
   "source": [
    "more_embedding_model = Sequential([\n",
    "    Input(shape = (inputShape, )),\n",
    "    Embedding(input_dim = maxWordCount, output_dim = 64),\n",
    "    Bidirectional(GRU( units = 32 )),\n",
    "    Dense(64, activation='relu'),\n",
    "    Dropout(0.4),\n",
    "    Dense(units = 3, activation = \"softmax\")\n",
    "])\n",
    "\n",
    "more_embedding_model.compile( loss = \"sparse_categorical_crossentropy\",\n",
    "                  optimizer = \"adam\", metrics = [\"sparse_categorical_accuracy\"])"
   ]
  },
  {
   "cell_type": "code",
   "execution_count": null,
   "id": "cs6_qbaktOss",
   "metadata": {
    "colab": {
     "base_uri": "https://localhost:8080/"
    },
    "id": "cs6_qbaktOss",
    "outputId": "912728ce-53f7-4f9a-ea94-8eca1d014277"
   },
   "outputs": [
    {
     "name": "stdout",
     "output_type": "stream",
     "text": [
      "Epoch 1/10\n",
      "\u001b[1m815/815\u001b[0m \u001b[32m━━━━━━━━━━━━━━━━━━━━\u001b[0m\u001b[37m\u001b[0m \u001b[1m64s\u001b[0m 77ms/step - loss: 0.9453 - sparse_categorical_accuracy: 0.5111 - val_loss: 0.6483 - val_sparse_categorical_accuracy: 0.7364\n",
      "Epoch 2/10\n",
      "\u001b[1m815/815\u001b[0m \u001b[32m━━━━━━━━━━━━━━━━━━━━\u001b[0m\u001b[37m\u001b[0m \u001b[1m95s\u001b[0m 116ms/step - loss: 0.6518 - sparse_categorical_accuracy: 0.7403 - val_loss: 0.6365 - val_sparse_categorical_accuracy: 0.7360\n",
      "Epoch 3/10\n",
      "\u001b[1m815/815\u001b[0m \u001b[32m━━━━━━━━━━━━━━━━━━━━\u001b[0m\u001b[37m\u001b[0m \u001b[1m603s\u001b[0m 741ms/step - loss: 0.6271 - sparse_categorical_accuracy: 0.7495 - val_loss: 0.6374 - val_sparse_categorical_accuracy: 0.7370\n",
      "Epoch 4/10\n",
      "\u001b[1m652/815\u001b[0m \u001b[32m━━━━━━━━━━━━━━━━\u001b[0m\u001b[37m━━━━\u001b[0m \u001b[1m12s\u001b[0m 78ms/step - loss: 0.6269 - sparse_categorical_accuracy: 0.7513"
     ]
    }
   ],
   "source": [
    "hist = more_embedding_model.fit(X_train_pad, Y_train, epochs = 10, batch_size = 32, validation_split = 0.2 )"
   ]
  },
  {
   "cell_type": "code",
   "execution_count": null,
   "id": "_2cz-yXotOst",
   "metadata": {
    "id": "_2cz-yXotOst"
   },
   "outputs": [],
   "source": [
    "more_embedding_model.save(\"more_embedding_model.keras\")"
   ]
  },
  {
   "cell_type": "code",
   "execution_count": null,
   "id": "eF5bJJrXtOst",
   "metadata": {
    "colab": {
     "base_uri": "https://localhost:8080/"
    },
    "id": "eF5bJJrXtOst",
    "outputId": "ab53106b-512b-4771-b232-4cf944bbe2d2"
   },
   "outputs": [],
   "source": [
    "more_embedding_model.evaluate(X_test_pad, Y_test)\n",
    "#0.7077611088752747, 0.7068151235580444"
   ]
  },
  {
   "cell_type": "code",
   "execution_count": null,
   "id": "ORonEgJitOsu",
   "metadata": {
    "colab": {
     "base_uri": "https://localhost:8080/",
     "height": 472
    },
    "id": "ORonEgJitOsu",
    "outputId": "f6c0f58d-7fe1-4878-b49f-28a558d20fb7"
   },
   "outputs": [],
   "source": [
    "plt.plot( hist.history[\"loss\"], label = \"Loss\" )\n",
    "plt.plot( hist.history[\"sparse_categorical_accuracy\"], label = \"Accuracy\" )\n",
    "plt.plot( hist.history[\"val_sparse_categorical_accuracy\"], label = \"Val. Accuracy\" )\n",
    "plt.xlabel(\"Epochs\")\n",
    "plt.ylabel(\"Loss / Accuracy\")\n",
    "plt.title(\"Анализ тональности с увеличенной выходной размерностью эмбеддинга\")\n",
    "plt.legend()\n",
    "plt.show()"
   ]
  },
  {
   "cell_type": "markdown",
   "id": "Xvl-a1eE2dDK",
   "metadata": {
    "id": "Xvl-a1eE2dDK"
   },
   "source": [
    "Увеличиваем количество элементов GRU"
   ]
  },
  {
   "cell_type": "code",
   "execution_count": null,
   "id": "KFKdKT0_2dDL",
   "metadata": {
    "id": "KFKdKT0_2dDL"
   },
   "outputs": [],
   "source": [
    "more_GRU_model = Sequential([\n",
    "    Input(shape = (inputShape, )),\n",
    "    Embedding(input_dim = maxWordCount, output_dim = 16),\n",
    "    Bidirectional(GRU( units = 128, return_sequences=True )),\n",
    "    Dense(64, activation='relu'),\n",
    "    Dropout(0.4),\n",
    "    Bidirectional(GRU( units = 32 )),\n",
    "    Dense(units = 3, activation = \"softmax\")\n",
    "])\n",
    "\n",
    "more_GRU_model.compile( loss = \"sparse_categorical_crossentropy\",\n",
    "                  optimizer = \"adam\", metrics = [\"sparse_categorical_accuracy\"])"
   ]
  },
  {
   "cell_type": "code",
   "execution_count": null,
   "id": "Cr0HoxFc2dDL",
   "metadata": {
    "colab": {
     "base_uri": "https://localhost:8080/"
    },
    "id": "Cr0HoxFc2dDL",
    "outputId": "6bec62c8-becb-4fc5-ccb0-95dcb97d1a6e"
   },
   "outputs": [],
   "source": [
    "hist = more_GRU_model.fit(X_train_pad, Y_train, epochs = 10, batch_size = 32, validation_split = 0.2 )"
   ]
  },
  {
   "cell_type": "code",
   "execution_count": null,
   "id": "-OSV-tCi2dDL",
   "metadata": {
    "id": "-OSV-tCi2dDL"
   },
   "outputs": [],
   "source": [
    "more_GRU_model.save(\"more_GRU_model.keras\")"
   ]
  },
  {
   "cell_type": "code",
   "execution_count": null,
   "id": "lmx1JfyH2dDL",
   "metadata": {
    "colab": {
     "base_uri": "https://localhost:8080/"
    },
    "id": "lmx1JfyH2dDL",
    "outputId": "09012b0b-44f5-4996-ef39-e9c196d39252"
   },
   "outputs": [],
   "source": [
    "more_GRU_model.evaluate(X_test_pad, Y_test)\n",
    "#0.6572496891021729, 0.7216598987579346"
   ]
  },
  {
   "cell_type": "code",
   "execution_count": null,
   "id": "29LSbP3z2dDM",
   "metadata": {
    "colab": {
     "base_uri": "https://localhost:8080/",
     "height": 472
    },
    "id": "29LSbP3z2dDM",
    "outputId": "414ab41c-541e-42ea-90dc-d08d66dd35f6"
   },
   "outputs": [],
   "source": [
    "plt.plot( hist.history[\"loss\"], label = \"Loss\" )\n",
    "plt.plot( hist.history[\"sparse_categorical_accuracy\"], label = \"Accuracy\" )\n",
    "plt.plot( hist.history[\"val_sparse_categorical_accuracy\"], label = \"Val. Accuracy\" )\n",
    "plt.xlabel(\"Epochs\")\n",
    "plt.ylabel(\"Loss / Accuracy\")\n",
    "plt.title(\"Анализ тональности с увеличенной выходной размерностью эмбеддинга\")\n",
    "plt.legend()\n",
    "plt.show()"
   ]
  },
  {
   "cell_type": "markdown",
   "id": "BmTAWArATMHI",
   "metadata": {
    "id": "BmTAWArATMHI"
   },
   "source": [
    "Увеличенный словарь дал больше результата"
   ]
  },
  {
   "cell_type": "markdown",
   "id": "1HCJNQpmIY7O",
   "metadata": {
    "id": "1HCJNQpmIY7O"
   },
   "source": [
    "**---------------------------------------------------**\n",
    "\n",
    "**Ниже практика**\n",
    "\n",
    "**---------------------------------------------------**"
   ]
  },
  {
   "cell_type": "markdown",
   "id": "74ac5cbb-e07f-4ce2-b688-7e893bc34cab",
   "metadata": {
    "id": "74ac5cbb-e07f-4ce2-b688-7e893bc34cab"
   },
   "source": [
    "#### Ecommerce Text Classification\n",
    "\n",
    "https://www.kaggle.com/datasets/saurabhshahane/ecommerce-text-classification"
   ]
  },
  {
   "cell_type": "code",
   "execution_count": null,
   "id": "828c99b5-3446-44fa-9001-cb3218c7de1b",
   "metadata": {
    "id": "828c99b5-3446-44fa-9001-cb3218c7de1b"
   },
   "outputs": [],
   "source": [
    "import numpy as np\n",
    "from zipfile import ZipFile\n",
    "import pandas as pd\n",
    "from sklearn.model_selection import train_test_split"
   ]
  },
  {
   "cell_type": "code",
   "execution_count": null,
   "id": "1e9f49b8-0bb0-4329-acb6-24ab899a92d9",
   "metadata": {
    "id": "1e9f49b8-0bb0-4329-acb6-24ab899a92d9",
    "outputId": "c2c97447-7b1a-4e5b-e208-9b2d57b5f4d3"
   },
   "outputs": [],
   "source": [
    "data = pd.read_csv(\"ecommerceDataset.csv\", header = None )"
   ]
  },
  {
   "cell_type": "code",
   "execution_count": null,
   "id": "bd2b0692-b168-41a2-a4fa-9cc9124b25bd",
   "metadata": {
    "id": "bd2b0692-b168-41a2-a4fa-9cc9124b25bd",
    "outputId": "e5166b4d-49ad-4e29-e7ae-f38ab142f96a"
   },
   "outputs": [],
   "source": [
    "data"
   ]
  },
  {
   "cell_type": "code",
   "execution_count": null,
   "id": "8759f61c-d489-4517-a414-07e6af869f0f",
   "metadata": {
    "id": "8759f61c-d489-4517-a414-07e6af869f0f",
    "outputId": "59a86628-aa7c-4227-f815-6c4e7bbcc619"
   },
   "outputs": [],
   "source": [
    "data[0].value_counts()"
   ]
  },
  {
   "cell_type": "code",
   "execution_count": null,
   "id": "de929a61-4fe3-445d-a126-69748fd5d463",
   "metadata": {
    "id": "de929a61-4fe3-445d-a126-69748fd5d463",
    "outputId": "59bdcb1d-a448-428e-b018-7b13c122558b"
   },
   "outputs": [],
   "source": [
    "data.dropna( inplace = True )\n",
    "data.info()"
   ]
  },
  {
   "cell_type": "code",
   "execution_count": null,
   "id": "bdb1c01b-439a-4b13-8fb1-7b890076c120",
   "metadata": {
    "id": "bdb1c01b-439a-4b13-8fb1-7b890076c120"
   },
   "outputs": [],
   "source": [
    "from sklearn.preprocessing import LabelEncoder\n",
    "\n",
    "le = LabelEncoder()\n",
    "data[0] = le.fit_transform( data[0] )"
   ]
  },
  {
   "cell_type": "code",
   "execution_count": null,
   "id": "400eb5ed-62d1-4ef8-82dc-60f2bf210571",
   "metadata": {
    "id": "400eb5ed-62d1-4ef8-82dc-60f2bf210571"
   },
   "outputs": [],
   "source": [
    "X = data[1].to_numpy()\n",
    "Y = data[0].to_numpy().astype(np.int64)"
   ]
  },
  {
   "cell_type": "code",
   "execution_count": null,
   "id": "9c5d0cb0-f1ed-4fb3-a600-0fb97475978a",
   "metadata": {
    "id": "9c5d0cb0-f1ed-4fb3-a600-0fb97475978a"
   },
   "outputs": [],
   "source": [
    "xtrain, xtest, ytrain, ytest = train_test_split(X,Y, train_size = 0.8)"
   ]
  },
  {
   "cell_type": "code",
   "execution_count": null,
   "id": "39b4f442-2621-48f0-9c48-10bb85a246bb",
   "metadata": {
    "id": "39b4f442-2621-48f0-9c48-10bb85a246bb",
    "outputId": "85fc93c0-dac6-45d4-f77a-3d5de00ecfbc"
   },
   "outputs": [],
   "source": [
    "sampleInd = 6\n",
    "data.iloc[sampleInd,1]"
   ]
  },
  {
   "cell_type": "code",
   "execution_count": null,
   "id": "2d3de32a-ea02-4d8e-a8de-71d3268de258",
   "metadata": {
    "id": "2d3de32a-ea02-4d8e-a8de-71d3268de258",
    "outputId": "95d29949-d896-412d-884d-d5ab9d063d3e"
   },
   "outputs": [],
   "source": [
    "ytrain.shape"
   ]
  },
  {
   "cell_type": "markdown",
   "id": "6c626e0b-12f3-43a4-88fb-dee288af641e",
   "metadata": {
    "id": "6c626e0b-12f3-43a4-88fb-dee288af641e"
   },
   "source": [
    "### Схема работы с текстом:\n",
    "\n",
    "* *Текстовое сообщение*\n",
    "* Токенизация (Tokenizer) -> словарь (обычно ограничивается как сверху так и снизу)\n",
    "* Векторизация: преобразование в числа (text_to_sequences)\n",
    "* выравнивание входных векторов (pad_sequences)\n",
    "* применение эмбеддингов (Embedding) -> векторы эмбеддинга (учет более сложных связей)\n",
    "* RNN / LSTM / GRU + Dense -> классификация"
   ]
  },
  {
   "cell_type": "markdown",
   "id": "37f17c57-5713-4f01-89be-35b837126a4a",
   "metadata": {
    "id": "37f17c57-5713-4f01-89be-35b837126a4a"
   },
   "source": [
    "#### Про эмбеддинги (Embedding)\n",
    "\n",
    "Краткий смысл:\n",
    "E(\"король\") - E(\"мужчина\") + E(\"женщина\") -> E(\"королева\n",
    "\n",
    "Предобученные эмбеддинги:\n",
    "\n",
    "* WordToVec\n",
    "  * модель CBOW: вывод слова из контекста\n",
    "  * модель skip-gram:  по слову определяет контекст\n",
    "* Glove\n",
    "\n",
    "Математически Эмбеддинг - матрица, преобразующая входной вектор\n",
    "\n",
    "Эмбеддинг — это проекция дискретного пространства (например, слов) в непрерывное пространство (векторы). Его можно рассматривать как матрицу весов, где каждая строка — вектор, соответствующий определённому слову из словаря."
   ]
  },
  {
   "cell_type": "markdown",
   "id": "3efed775-3689-4f00-8e24-b43e56a7df96",
   "metadata": {
    "id": "3efed775-3689-4f00-8e24-b43e56a7df96"
   },
   "source": [
    "### Токенизация\n",
    "\n",
    "\"Мешок слов\" - Bag of Words\n",
    "\n",
    "TF-IDF   (nt / Nd * log( D / D|t ))"
   ]
  },
  {
   "cell_type": "code",
   "execution_count": null,
   "id": "4f0d77ae-845d-4e99-9097-85324e22432c",
   "metadata": {
    "id": "4f0d77ae-845d-4e99-9097-85324e22432c"
   },
   "outputs": [],
   "source": [
    "from keras.preprocessing.text import Tokenizer # DEPRECATED! Новая версия: https://keras.io/keras_hub/api/tokenizers/tokenizer/\n",
    "from keras.utils import pad_sequences"
   ]
  },
  {
   "cell_type": "code",
   "execution_count": null,
   "id": "bbc680bf-80c5-427c-b765-786900563593",
   "metadata": {
    "id": "bbc680bf-80c5-427c-b765-786900563593"
   },
   "outputs": [],
   "source": [
    "maxWordCount = 1000 # количество слов в словаре\n",
    "\n",
    "# больше параметров: https://www.tensorflow.org/api_docs/python/tf/keras/preprocessing/text/Tokenizer\n",
    "\n",
    "tokenizer = Tokenizer( maxWordCount )\n",
    "tokenizer.fit_on_texts( X )"
   ]
  },
  {
   "cell_type": "code",
   "execution_count": null,
   "id": "59008de9-6d61-4d12-9a3d-0fc3e3071c57",
   "metadata": {
    "id": "59008de9-6d61-4d12-9a3d-0fc3e3071c57",
    "outputId": "5d8cd029-d387-45b1-a1f7-03b711808302",
    "scrolled": true
   },
   "outputs": [],
   "source": [
    "# видно, что наиболее распространенные неинформативные слова в виде предлогов, артиклей.\n",
    "# Для этого обычно используются список стоп-слов (зависит от языка и предметной области)\n",
    "tokenizer.word_index"
   ]
  },
  {
   "cell_type": "code",
   "execution_count": null,
   "id": "0ce676f7-08db-4a46-b58b-8c43c85ac63d",
   "metadata": {
    "id": "0ce676f7-08db-4a46-b58b-8c43c85ac63d"
   },
   "outputs": [],
   "source": [
    "xtrain_enc = tokenizer.texts_to_sequences( xtrain )\n",
    "xtest_enc = tokenizer.texts_to_sequences( xtest )"
   ]
  },
  {
   "cell_type": "markdown",
   "id": "075950b9-45cc-4469-a0d4-ca76647d1bde",
   "metadata": {
    "id": "075950b9-45cc-4469-a0d4-ca76647d1bde"
   },
   "source": [
    "#### Проанализируем длины сообщений - нам нужно определиться, каку длину оставляем, т.к. в модель будем подавать только векторы фиксированной длины. Длинные сообщения придется обрезать, слишком короткие - выровнять нулями (пэддинг)"
   ]
  },
  {
   "cell_type": "code",
   "execution_count": null,
   "id": "03cd4adc-c0de-4374-8d31-1c49bf739f79",
   "metadata": {
    "id": "03cd4adc-c0de-4374-8d31-1c49bf739f79"
   },
   "outputs": [],
   "source": [
    "lens = np.array( [ len(e) for e in X] )"
   ]
  },
  {
   "cell_type": "code",
   "execution_count": null,
   "id": "2d5a7a18-eda2-4847-9b1b-4cc3714b394c",
   "metadata": {
    "id": "2d5a7a18-eda2-4847-9b1b-4cc3714b394c",
    "outputId": "26f44c81-a4f1-4ba3-8ad0-d8eb75461911"
   },
   "outputs": [],
   "source": [
    "print(np.mean(lens))\n",
    "print(np.median(lens))\n",
    "print(np.max(lens))\n",
    "print(np.min(lens))"
   ]
  },
  {
   "cell_type": "code",
   "execution_count": null,
   "id": "fed81279-be3f-4564-b4ab-f22f5163b9d1",
   "metadata": {
    "id": "fed81279-be3f-4564-b4ab-f22f5163b9d1",
    "scrolled": true
   },
   "outputs": [],
   "source": [
    "inputSeqLength = 512 #делаем длину текстов в 512 токенов (слов)\n",
    "\n",
    "#выравниваем все сообщения: отрезаем хвост (truncating = \"post\"), добавляем нули тоже в хвосте (padding = \"post\")\n",
    "xtrain_pad = pad_sequences( xtrain_enc, maxlen = inputSeqLength, padding = \"post\", truncating = \"post\" )\n",
    "xtest_pad = pad_sequences( xtest_enc, maxlen = inputSeqLength, padding = \"post\", truncating = \"post\" )"
   ]
  },
  {
   "cell_type": "code",
   "execution_count": null,
   "id": "a6193d00-adab-499c-8b85-f2566d8cdae6",
   "metadata": {
    "id": "a6193d00-adab-499c-8b85-f2566d8cdae6",
    "outputId": "237d7157-2618-4149-9e8c-20cd0616941e",
    "scrolled": true
   },
   "outputs": [],
   "source": [
    "xtrain_pad[4]"
   ]
  },
  {
   "cell_type": "code",
   "execution_count": null,
   "id": "15fba274-78e4-47d2-ab5d-f73c6aed48ac",
   "metadata": {
    "id": "15fba274-78e4-47d2-ab5d-f73c6aed48ac"
   },
   "outputs": [],
   "source": [
    "from keras.models import Sequential\n",
    "from keras.layers import LSTM, GRU, Dense, Bidirectional, Embedding, Input\n"
   ]
  },
  {
   "cell_type": "code",
   "execution_count": null,
   "id": "964ea098-6cfb-4582-9267-79411fbaa9a9",
   "metadata": {
    "id": "964ea098-6cfb-4582-9267-79411fbaa9a9",
    "outputId": "7cb18513-6016-42a4-d648-38890509c705"
   },
   "outputs": [],
   "source": [
    "#форма входа нейросети\n",
    "\n",
    "xtrain_pad.shape"
   ]
  },
  {
   "cell_type": "code",
   "execution_count": null,
   "id": "d18409c4-c01a-4a98-bafa-0a91e8ff3aac",
   "metadata": {
    "id": "d18409c4-c01a-4a98-bafa-0a91e8ff3aac"
   },
   "outputs": [],
   "source": [
    "inputShape = xtrain_pad.shape[1]\n",
    "\n",
    "txtModel = Sequential([\n",
    "    Input( shape = (inputShape) ),\n",
    "    # Параметры слоя эмбеддинга:\n",
    "    # input_dim - задает размер словаря (если задать некорректно, то будет ошибка вычислений)\n",
    "    # output_dim - размерность выходных векторов эмбединга\n",
    "    # input_length - размернсть входных последовательнстей\n",
    "    Embedding( input_dim = maxWordCount, output_dim = 32, input_length = inputShape ),\n",
    "    #LSTM( units = 32 ),\n",
    "    Bidirectional( LSTM( units = 32 ) ),\n",
    "    Dense( units = len(np.unique(Y)), activation = \"softmax\" )\n",
    "])\n",
    "\n",
    "txtModel.compile( loss = \"sparse_categorical_crossentropy\",\n",
    "                  optimizer = \"SGD\", metrics = [\"sparse_categorical_accuracy\"])"
   ]
  },
  {
   "cell_type": "code",
   "execution_count": null,
   "id": "2b8a4d04-c87c-4c6d-a522-08774586df54",
   "metadata": {
    "id": "2b8a4d04-c87c-4c6d-a522-08774586df54",
    "outputId": "b38d3c41-0fd2-4e8e-ee08-253b6fab84a7"
   },
   "outputs": [],
   "source": [
    "txtModel.summary()"
   ]
  },
  {
   "cell_type": "code",
   "execution_count": null,
   "id": "289a66e2-764e-4bb9-b7a5-567bbace3bf1",
   "metadata": {
    "id": "289a66e2-764e-4bb9-b7a5-567bbace3bf1",
    "outputId": "5bac03c1-ca2f-4f2f-8030-7044ebfb2f37"
   },
   "outputs": [],
   "source": [
    "hist = txtModel.fit( xtrain_pad, ytrain,\n",
    "                    epochs = 10,\n",
    "                    batch_size = 32, validation_split = 0.2 )"
   ]
  },
  {
   "cell_type": "code",
   "execution_count": null,
   "id": "6cad9f09-b3cc-4d7e-81e8-177dfc01d8a0",
   "metadata": {
    "id": "6cad9f09-b3cc-4d7e-81e8-177dfc01d8a0",
    "outputId": "c8d089b3-89c5-4e8e-96a9-e9e94099d66f"
   },
   "outputs": [],
   "source": [
    "txtModel.evaluate(xtest_pad, ytest)"
   ]
  },
  {
   "cell_type": "code",
   "execution_count": null,
   "id": "1615b902-ab90-4ea9-a290-2559d7bfdc31",
   "metadata": {
    "id": "1615b902-ab90-4ea9-a290-2559d7bfdc31",
    "outputId": "58e5eee7-972a-4276-a7e1-4ff62970a0a7"
   },
   "outputs": [],
   "source": [
    "import matplotlib.pyplot as plt\n",
    "\n",
    "plt.plot( hist.history[\"loss\"], label = \"Loss\" )\n",
    "plt.plot( hist.history[\"sparse_categorical_accuracy\"], label = \"Accuracy\" )\n",
    "plt.plot( hist.history[\"val_sparse_categorical_accuracy\"], label = \"Val. Accuracy\" )\n",
    "plt.xlabel(\"Epochs\")\n",
    "plt.ylabel(\"Loss / Accuracy\")\n",
    "plt.legend()\n",
    "plt.show()"
   ]
  }
 ],
 "metadata": {
  "colab": {
   "provenance": []
  },
  "kernelspec": {
   "display_name": "Python [conda env:base] *",
   "language": "python",
   "name": "conda-base-py"
  },
  "language_info": {
   "codemirror_mode": {
    "name": "ipython",
    "version": 3
   },
   "file_extension": ".py",
   "mimetype": "text/x-python",
   "name": "python",
   "nbconvert_exporter": "python",
   "pygments_lexer": "ipython3",
   "version": "3.12.7"
  }
 },
 "nbformat": 4,
 "nbformat_minor": 5
}
