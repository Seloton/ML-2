{
 "cells": [
  {
   "cell_type": "markdown",
   "id": "69e9ed1a",
   "metadata": {},
   "source": [
    "### Задание №2\n",
    "\n",
    "Цель: настройка параметров методов обучения (оптимизаторов) и снижение эффекта переобучения\n",
    "\n",
    "1. Попробовать с помощью нейронных сетей решить задачу регрессии (хотя можно и с классификацией продолжить)\n",
    "> 1.1 Для этого найдите набор данных для задачи регрессии (по признакам предсказываем некоторую числовую характристику, а не класс)\n",
    "\n",
    "2. При описании слоев используйте объекты, реализующие активационные функции (from keras.activations ), объекты методов обучения (from keras.optimizers import Adam, SGD, ...) и функции потерь (from keras.losses import ...)\n",
    "\n",
    "3. Попробуйте поменять параметры методов обучения.\n",
    "\n",
    "4. Добейтесь эффекта переобучения модели (например, добавьте слоев и нейронов, увеличьте количество эпох обучения)\n",
    "\n",
    "5. С помощью слоев прореживания (Dropout) и методов регуляризации добейтесь снижения эффекта переобучения"
   ]
  },
  {
   "cell_type": "code",
   "execution_count": 3,
   "id": "f5f54a0d",
   "metadata": {},
   "outputs": [],
   "source": [
    "import zipfile\n",
    "import pandas as pd\n",
    "import numpy as np\n",
    "import matplotlib.pyplot as plt\n",
    "from sklearn.model_selection import train_test_split"
   ]
  },
  {
   "cell_type": "code",
   "execution_count": 2,
   "id": "4b120336",
   "metadata": {},
   "outputs": [
    {
     "data": {
      "text/plain": [
       "['BostonHousing.csv']"
      ]
     },
     "execution_count": 2,
     "metadata": {},
     "output_type": "execute_result"
    }
   ],
   "source": [
    "# CRIM - per capita crime rate by town\n",
    "# ZN - proportion of residential land zoned for lots over 25,000 sq.ft.\n",
    "# INDUS - proportion of non-retail business acres per town.\n",
    "# CHAS - Charles River dummy variable (1 if tract bounds river; 0 otherwise)\n",
    "# NOX - nitric oxides concentration (parts per 10 million)\n",
    "# RM - average number of rooms per dwelling\n",
    "# AGE - proportion of owner-occupied units built prior to 1940\n",
    "# DIS - weighted distances to five Boston employment centres\n",
    "# RAD - index of accessibility to radial highways\n",
    "# TAX - full-value property-tax rate per $10,000\n",
    "# PTRATIO - pupil-teacher ratio by town\n",
    "# B - 1000(Bk - 0.63)^2 where Bk is the proportion of blacks by town\n",
    "# LSTAT - % lower status of the population\n",
    "# MEDV - Median value of owner-occupied homes in $1000's\n",
    "\n",
    "zf = zipfile.ZipFile(\"boston.zip\")\n",
    "zf.namelist()"
   ]
  },
  {
   "cell_type": "code",
   "execution_count": 4,
   "id": "82469658",
   "metadata": {},
   "outputs": [],
   "source": [
    "with zf.open(\"BostonHousing.csv\") as bost:\n",
    "    bostDf = pd.read_csv( bost )"
   ]
  },
  {
   "cell_type": "code",
   "execution_count": 5,
   "id": "2fe43187",
   "metadata": {},
   "outputs": [
    {
     "data": {
      "text/html": [
       "<div>\n",
       "<style scoped>\n",
       "    .dataframe tbody tr th:only-of-type {\n",
       "        vertical-align: middle;\n",
       "    }\n",
       "\n",
       "    .dataframe tbody tr th {\n",
       "        vertical-align: top;\n",
       "    }\n",
       "\n",
       "    .dataframe thead th {\n",
       "        text-align: right;\n",
       "    }\n",
       "</style>\n",
       "<table border=\"1\" class=\"dataframe\">\n",
       "  <thead>\n",
       "    <tr style=\"text-align: right;\">\n",
       "      <th></th>\n",
       "      <th>crim</th>\n",
       "      <th>zn</th>\n",
       "      <th>indus</th>\n",
       "      <th>chas</th>\n",
       "      <th>nox</th>\n",
       "      <th>rm</th>\n",
       "      <th>age</th>\n",
       "      <th>dis</th>\n",
       "      <th>rad</th>\n",
       "      <th>tax</th>\n",
       "      <th>ptratio</th>\n",
       "      <th>b</th>\n",
       "      <th>lstat</th>\n",
       "      <th>medv</th>\n",
       "    </tr>\n",
       "  </thead>\n",
       "  <tbody>\n",
       "    <tr>\n",
       "      <th>0</th>\n",
       "      <td>0.00632</td>\n",
       "      <td>18.0</td>\n",
       "      <td>2.31</td>\n",
       "      <td>0</td>\n",
       "      <td>0.538</td>\n",
       "      <td>6.575</td>\n",
       "      <td>65.2</td>\n",
       "      <td>4.0900</td>\n",
       "      <td>1</td>\n",
       "      <td>296</td>\n",
       "      <td>15.3</td>\n",
       "      <td>396.90</td>\n",
       "      <td>4.98</td>\n",
       "      <td>24.0</td>\n",
       "    </tr>\n",
       "    <tr>\n",
       "      <th>1</th>\n",
       "      <td>0.02731</td>\n",
       "      <td>0.0</td>\n",
       "      <td>7.07</td>\n",
       "      <td>0</td>\n",
       "      <td>0.469</td>\n",
       "      <td>6.421</td>\n",
       "      <td>78.9</td>\n",
       "      <td>4.9671</td>\n",
       "      <td>2</td>\n",
       "      <td>242</td>\n",
       "      <td>17.8</td>\n",
       "      <td>396.90</td>\n",
       "      <td>9.14</td>\n",
       "      <td>21.6</td>\n",
       "    </tr>\n",
       "    <tr>\n",
       "      <th>2</th>\n",
       "      <td>0.02729</td>\n",
       "      <td>0.0</td>\n",
       "      <td>7.07</td>\n",
       "      <td>0</td>\n",
       "      <td>0.469</td>\n",
       "      <td>7.185</td>\n",
       "      <td>61.1</td>\n",
       "      <td>4.9671</td>\n",
       "      <td>2</td>\n",
       "      <td>242</td>\n",
       "      <td>17.8</td>\n",
       "      <td>392.83</td>\n",
       "      <td>4.03</td>\n",
       "      <td>34.7</td>\n",
       "    </tr>\n",
       "    <tr>\n",
       "      <th>3</th>\n",
       "      <td>0.03237</td>\n",
       "      <td>0.0</td>\n",
       "      <td>2.18</td>\n",
       "      <td>0</td>\n",
       "      <td>0.458</td>\n",
       "      <td>6.998</td>\n",
       "      <td>45.8</td>\n",
       "      <td>6.0622</td>\n",
       "      <td>3</td>\n",
       "      <td>222</td>\n",
       "      <td>18.7</td>\n",
       "      <td>394.63</td>\n",
       "      <td>2.94</td>\n",
       "      <td>33.4</td>\n",
       "    </tr>\n",
       "    <tr>\n",
       "      <th>4</th>\n",
       "      <td>0.06905</td>\n",
       "      <td>0.0</td>\n",
       "      <td>2.18</td>\n",
       "      <td>0</td>\n",
       "      <td>0.458</td>\n",
       "      <td>7.147</td>\n",
       "      <td>54.2</td>\n",
       "      <td>6.0622</td>\n",
       "      <td>3</td>\n",
       "      <td>222</td>\n",
       "      <td>18.7</td>\n",
       "      <td>396.90</td>\n",
       "      <td>5.33</td>\n",
       "      <td>36.2</td>\n",
       "    </tr>\n",
       "    <tr>\n",
       "      <th>5</th>\n",
       "      <td>0.02985</td>\n",
       "      <td>0.0</td>\n",
       "      <td>2.18</td>\n",
       "      <td>0</td>\n",
       "      <td>0.458</td>\n",
       "      <td>6.430</td>\n",
       "      <td>58.7</td>\n",
       "      <td>6.0622</td>\n",
       "      <td>3</td>\n",
       "      <td>222</td>\n",
       "      <td>18.7</td>\n",
       "      <td>394.12</td>\n",
       "      <td>5.21</td>\n",
       "      <td>28.7</td>\n",
       "    </tr>\n",
       "    <tr>\n",
       "      <th>6</th>\n",
       "      <td>0.08829</td>\n",
       "      <td>12.5</td>\n",
       "      <td>7.87</td>\n",
       "      <td>0</td>\n",
       "      <td>0.524</td>\n",
       "      <td>6.012</td>\n",
       "      <td>66.6</td>\n",
       "      <td>5.5605</td>\n",
       "      <td>5</td>\n",
       "      <td>311</td>\n",
       "      <td>15.2</td>\n",
       "      <td>395.60</td>\n",
       "      <td>12.43</td>\n",
       "      <td>22.9</td>\n",
       "    </tr>\n",
       "    <tr>\n",
       "      <th>7</th>\n",
       "      <td>0.14455</td>\n",
       "      <td>12.5</td>\n",
       "      <td>7.87</td>\n",
       "      <td>0</td>\n",
       "      <td>0.524</td>\n",
       "      <td>6.172</td>\n",
       "      <td>96.1</td>\n",
       "      <td>5.9505</td>\n",
       "      <td>5</td>\n",
       "      <td>311</td>\n",
       "      <td>15.2</td>\n",
       "      <td>396.90</td>\n",
       "      <td>19.15</td>\n",
       "      <td>27.1</td>\n",
       "    </tr>\n",
       "    <tr>\n",
       "      <th>8</th>\n",
       "      <td>0.21124</td>\n",
       "      <td>12.5</td>\n",
       "      <td>7.87</td>\n",
       "      <td>0</td>\n",
       "      <td>0.524</td>\n",
       "      <td>5.631</td>\n",
       "      <td>100.0</td>\n",
       "      <td>6.0821</td>\n",
       "      <td>5</td>\n",
       "      <td>311</td>\n",
       "      <td>15.2</td>\n",
       "      <td>386.63</td>\n",
       "      <td>29.93</td>\n",
       "      <td>16.5</td>\n",
       "    </tr>\n",
       "    <tr>\n",
       "      <th>9</th>\n",
       "      <td>0.17004</td>\n",
       "      <td>12.5</td>\n",
       "      <td>7.87</td>\n",
       "      <td>0</td>\n",
       "      <td>0.524</td>\n",
       "      <td>6.004</td>\n",
       "      <td>85.9</td>\n",
       "      <td>6.5921</td>\n",
       "      <td>5</td>\n",
       "      <td>311</td>\n",
       "      <td>15.2</td>\n",
       "      <td>386.71</td>\n",
       "      <td>17.10</td>\n",
       "      <td>18.9</td>\n",
       "    </tr>\n",
       "    <tr>\n",
       "      <th>10</th>\n",
       "      <td>0.22489</td>\n",
       "      <td>12.5</td>\n",
       "      <td>7.87</td>\n",
       "      <td>0</td>\n",
       "      <td>0.524</td>\n",
       "      <td>NaN</td>\n",
       "      <td>94.3</td>\n",
       "      <td>6.3467</td>\n",
       "      <td>5</td>\n",
       "      <td>311</td>\n",
       "      <td>15.2</td>\n",
       "      <td>392.52</td>\n",
       "      <td>20.45</td>\n",
       "      <td>15.0</td>\n",
       "    </tr>\n",
       "    <tr>\n",
       "      <th>11</th>\n",
       "      <td>0.11747</td>\n",
       "      <td>12.5</td>\n",
       "      <td>7.87</td>\n",
       "      <td>0</td>\n",
       "      <td>0.524</td>\n",
       "      <td>6.009</td>\n",
       "      <td>82.9</td>\n",
       "      <td>6.2267</td>\n",
       "      <td>5</td>\n",
       "      <td>311</td>\n",
       "      <td>15.2</td>\n",
       "      <td>396.90</td>\n",
       "      <td>13.27</td>\n",
       "      <td>18.9</td>\n",
       "    </tr>\n",
       "  </tbody>\n",
       "</table>\n",
       "</div>"
      ],
      "text/plain": [
       "       crim    zn  indus  chas    nox     rm    age     dis  rad  tax  \\\n",
       "0   0.00632  18.0   2.31     0  0.538  6.575   65.2  4.0900    1  296   \n",
       "1   0.02731   0.0   7.07     0  0.469  6.421   78.9  4.9671    2  242   \n",
       "2   0.02729   0.0   7.07     0  0.469  7.185   61.1  4.9671    2  242   \n",
       "3   0.03237   0.0   2.18     0  0.458  6.998   45.8  6.0622    3  222   \n",
       "4   0.06905   0.0   2.18     0  0.458  7.147   54.2  6.0622    3  222   \n",
       "5   0.02985   0.0   2.18     0  0.458  6.430   58.7  6.0622    3  222   \n",
       "6   0.08829  12.5   7.87     0  0.524  6.012   66.6  5.5605    5  311   \n",
       "7   0.14455  12.5   7.87     0  0.524  6.172   96.1  5.9505    5  311   \n",
       "8   0.21124  12.5   7.87     0  0.524  5.631  100.0  6.0821    5  311   \n",
       "9   0.17004  12.5   7.87     0  0.524  6.004   85.9  6.5921    5  311   \n",
       "10  0.22489  12.5   7.87     0  0.524    NaN   94.3  6.3467    5  311   \n",
       "11  0.11747  12.5   7.87     0  0.524  6.009   82.9  6.2267    5  311   \n",
       "\n",
       "    ptratio       b  lstat  medv  \n",
       "0      15.3  396.90   4.98  24.0  \n",
       "1      17.8  396.90   9.14  21.6  \n",
       "2      17.8  392.83   4.03  34.7  \n",
       "3      18.7  394.63   2.94  33.4  \n",
       "4      18.7  396.90   5.33  36.2  \n",
       "5      18.7  394.12   5.21  28.7  \n",
       "6      15.2  395.60  12.43  22.9  \n",
       "7      15.2  396.90  19.15  27.1  \n",
       "8      15.2  386.63  29.93  16.5  \n",
       "9      15.2  386.71  17.10  18.9  \n",
       "10     15.2  392.52  20.45  15.0  \n",
       "11     15.2  396.90  13.27  18.9  "
      ]
     },
     "execution_count": 5,
     "metadata": {},
     "output_type": "execute_result"
    }
   ],
   "source": [
    "bostDf.head(12)"
   ]
  },
  {
   "cell_type": "code",
   "execution_count": 69,
   "id": "30caad20",
   "metadata": {},
   "outputs": [],
   "source": [
    "#bostDf = pd.get_dummies( bostDf, columns = [\"rad\"], dtype = float )"
   ]
  },
  {
   "cell_type": "code",
   "execution_count": 6,
   "id": "423622fe",
   "metadata": {},
   "outputs": [],
   "source": [
    "bostDf.dropna( inplace = True )"
   ]
  },
  {
   "cell_type": "code",
   "execution_count": 7,
   "id": "d780925b",
   "metadata": {},
   "outputs": [],
   "source": [
    "X = bostDf.drop( columns = [\"medv\"] ).to_numpy()\n",
    "Y = bostDf.medv.to_numpy()"
   ]
  },
  {
   "cell_type": "code",
   "execution_count": 8,
   "id": "f6e57834",
   "metadata": {},
   "outputs": [],
   "source": [
    "Xnorm = ( X - np.min( X, axis = 0 ) ) / ( np.max( X, axis = 0 ) - np.min( X, axis = 0 ) )\n",
    "Ynorm = ( Y - np.min( Y, axis = 0 ) ) / ( np.max( Y, axis = 0 ) - np.min( Y, axis = 0 ) )"
   ]
  },
  {
   "cell_type": "code",
   "execution_count": 9,
   "id": "364d9893",
   "metadata": {},
   "outputs": [
    {
     "name": "stdout",
     "output_type": "stream",
     "text": [
      "Train set: X shape (375, 13), Y shape: (375,)\n",
      "Test set: X shape (126, 13), Y shape: (126,)\n"
     ]
    }
   ],
   "source": [
    "xTrain, xTest, yTrain, yTest = train_test_split( Xnorm, Ynorm, train_size = 0.75 )\n",
    "print( f\"Train set: X shape {xTrain.shape}, Y shape: {yTrain.shape}\" )\n",
    "print( f\"Test set: X shape {xTest.shape}, Y shape: {yTest.shape}\" )"
   ]
  },
  {
   "cell_type": "code",
   "execution_count": 14,
   "id": "2b9b7aac",
   "metadata": {},
   "outputs": [],
   "source": [
    "from keras.models import Sequential\n",
    "from keras.layers import Dense, Dropout\n",
    "from keras.regularizers import L1, L2\n",
    "from keras.activations import relu, linear"
   ]
  },
  {
   "cell_type": "code",
   "execution_count": 15,
   "id": "4fadda08",
   "metadata": {},
   "outputs": [
    {
     "name": "stderr",
     "output_type": "stream",
     "text": [
      "2024-03-20 18:03:03.089225: I tensorflow/compiler/jit/xla_cpu_device.cc:41] Not creating XLA devices, tf_xla_enable_xla_devices not set\n",
      "2024-03-20 18:03:03.090027: I tensorflow/stream_executor/platform/default/dso_loader.cc:49] Successfully opened dynamic library libcuda.so.1\n",
      "2024-03-20 18:03:03.112419: E tensorflow/stream_executor/cuda/cuda_driver.cc:328] failed call to cuInit: CUDA_ERROR_NO_DEVICE: no CUDA-capable device is detected\n",
      "2024-03-20 18:03:03.112441: I tensorflow/stream_executor/cuda/cuda_diagnostics.cc:156] kernel driver does not appear to be running on this host (nazarov): /proc/driver/nvidia/version does not exist\n",
      "2024-03-20 18:03:03.159763: I tensorflow/core/platform/cpu_feature_guard.cc:142] This TensorFlow binary is optimized with oneAPI Deep Neural Network Library (oneDNN) to use the following CPU instructions in performance-critical operations:  SSE4.1 SSE4.2 AVX AVX2 FMA\n",
      "To enable them in other operations, rebuild TensorFlow with the appropriate compiler flags.\n",
      "2024-03-20 18:03:03.159942: I tensorflow/compiler/jit/xla_gpu_device.cc:99] Not creating XLA devices, tf_xla_enable_xla_devices not set\n",
      "2024-03-20 18:03:03.559079: I tensorflow/compiler/mlir/mlir_graph_optimization_pass.cc:116] None of the MLIR optimization passes are enabled (registered 2)\n",
      "2024-03-20 18:03:03.642806: I tensorflow/core/platform/profile_utils/cpu_utils.cc:112] CPU Frequency: 3499630000 Hz\n"
     ]
    },
    {
     "name": "stdout",
     "output_type": "stream",
     "text": [
      "Epoch 1/20\n",
      "38/38 [==============================] - 1s 1ms/step - loss: 0.0676\n",
      "Epoch 2/20\n",
      "38/38 [==============================] - 0s 1ms/step - loss: 0.0243\n",
      "Epoch 3/20\n",
      "38/38 [==============================] - 0s 994us/step - loss: 0.0171\n",
      "Epoch 4/20\n",
      "38/38 [==============================] - 0s 1ms/step - loss: 0.0149\n",
      "Epoch 5/20\n",
      "38/38 [==============================] - 0s 887us/step - loss: 0.0122\n",
      "Epoch 6/20\n",
      "38/38 [==============================] - 0s 881us/step - loss: 0.0101\n",
      "Epoch 7/20\n",
      "38/38 [==============================] - 0s 945us/step - loss: 0.0121\n",
      "Epoch 8/20\n",
      "38/38 [==============================] - 0s 848us/step - loss: 0.0097\n",
      "Epoch 9/20\n",
      "38/38 [==============================] - 0s 873us/step - loss: 0.0104\n",
      "Epoch 10/20\n",
      "38/38 [==============================] - 0s 924us/step - loss: 0.0090\n",
      "Epoch 11/20\n",
      "38/38 [==============================] - 0s 885us/step - loss: 0.0085\n",
      "Epoch 12/20\n",
      "38/38 [==============================] - 0s 988us/step - loss: 0.0083\n",
      "Epoch 13/20\n",
      "38/38 [==============================] - 0s 900us/step - loss: 0.0082\n",
      "Epoch 14/20\n",
      "38/38 [==============================] - 0s 912us/step - loss: 0.0070\n",
      "Epoch 15/20\n",
      "38/38 [==============================] - 0s 893us/step - loss: 0.0074\n",
      "Epoch 16/20\n",
      "38/38 [==============================] - 0s 1ms/step - loss: 0.0100\n",
      "Epoch 17/20\n",
      "38/38 [==============================] - 0s 973us/step - loss: 0.0075\n",
      "Epoch 18/20\n",
      "38/38 [==============================] - 0s 813us/step - loss: 0.0079\n",
      "Epoch 19/20\n",
      "38/38 [==============================] - 0s 947us/step - loss: 0.0063\n",
      "Epoch 20/20\n",
      "38/38 [==============================] - 0s 852us/step - loss: 0.0072\n"
     ]
    },
    {
     "data": {
      "text/plain": [
       "<tensorflow.python.keras.callbacks.History at 0x7f98ec33b7c0>"
      ]
     },
     "execution_count": 15,
     "metadata": {},
     "output_type": "execute_result"
    }
   ],
   "source": [
    "model = Sequential([\n",
    "    Dense( units = 16, activation = relu , input_shape = (xTrain.shape[1], ) ),\n",
    "    Dense( units = 8, activation = relu ),\n",
    "    Dense( units = 1, activation = linear )\n",
    "    \n",
    "])\n",
    "\n",
    "model.compile( optimizer = \"adam\", loss = \"mse\")\n",
    "model.fit( xTrain, yTrain, batch_size = 10, epochs = 20 )"
   ]
  },
  {
   "cell_type": "code",
   "execution_count": 16,
   "id": "b3fc1a35",
   "metadata": {},
   "outputs": [
    {
     "name": "stdout",
     "output_type": "stream",
     "text": [
      "4/4 [==============================] - 0s 898us/step - loss: 0.0086\n"
     ]
    },
    {
     "data": {
      "text/plain": [
       "0.008629157207906246"
      ]
     },
     "execution_count": 16,
     "metadata": {},
     "output_type": "execute_result"
    }
   ],
   "source": [
    "model.evaluate( xTest, yTest )"
   ]
  },
  {
   "cell_type": "code",
   "execution_count": 17,
   "id": "cd26a142",
   "metadata": {},
   "outputs": [],
   "source": [
    "yPred = model.predict( xTest ).reshape(-1,)"
   ]
  },
  {
   "cell_type": "code",
   "execution_count": 18,
   "id": "95f8ff17",
   "metadata": {},
   "outputs": [
    {
     "data": {
      "image/png": "[encoded data removed]",
      "text/plain": [
       "<Figure size 640x480 with 1 Axes>"
      ]
     },
     "metadata": {},
     "output_type": "display_data"
    }
   ],
   "source": [
    "plt.plot( yTest, label = \"Real\" )\n",
    "plt.plot( yPred, label = \"Predicted\")\n",
    "plt.legend()\n",
    "plt.show()"
   ]
  }
 ],
 "metadata": {
  "kernelspec": {
   "display_name": "Python [conda env:base] *",
   "language": "python",
   "name": "conda-base-py"
  },
  "language_info": {
   "codemirror_mode": {
    "name": "ipython",
    "version": 3
   },
   "file_extension": ".py",
   "mimetype": "text/x-python",
   "name": "python",
   "nbconvert_exporter": "python",
   "pygments_lexer": "ipython3",
   "version": "3.12.7"
  }
 },
 "nbformat": 4,
 "nbformat_minor": 5
}
