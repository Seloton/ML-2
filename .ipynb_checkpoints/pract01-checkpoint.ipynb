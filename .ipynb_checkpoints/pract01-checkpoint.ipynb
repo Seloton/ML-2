{
 "cells": [
  {
   "cell_type": "code",
   "execution_count": 1,
   "id": "80114ac2-2ce7-49df-8ee1-3908aab0833b",
   "metadata": {},
   "outputs": [],
   "source": [
    "from sklearn.datasets import load_iris\n",
    "import numpy as np\n",
    "\n",
    "from sklearn.model_selection import train_test_split\n",
    "from sklearn.preprocessing import OneHotEncoder\n",
    "from sklearn.preprocessing import MinMaxScaler\n",
    "\n",
    "import pandas as pd\n",
    "import matplotlib.pyplot as plt"
   ]
  },
  {
   "cell_type": "code",
   "execution_count": 3,
   "id": "cae805ab-75e5-4e43-a44f-1050c32271b3",
   "metadata": {},
   "outputs": [],
   "source": [
    "ds = load_iris()"
   ]
  },
  {
   "cell_type": "code",
   "execution_count": 4,
   "id": "8e774a13-9003-43c6-8d10-a558f2657587",
   "metadata": {},
   "outputs": [],
   "source": [
    "x = ds['data']\n",
    "y = ds['target']"
   ]
  },
  {
   "cell_type": "code",
   "execution_count": 5,
   "id": "003a5761-c4f6-40f1-9d42-9c444c91e2f9",
   "metadata": {},
   "outputs": [],
   "source": [
    "xNorm = ( x - np.min(x, axis = 0) ) / ( np.max(x, axis = 0) - np.min(x, axis = 0) )"
   ]
  },
  {
   "cell_type": "code",
   "execution_count": 49,
   "id": "3b09b05d-887c-4953-bbc9-83961904b3ba",
   "metadata": {},
   "outputs": [],
   "source": [
    "ohe = OneHotEncoder( sparse_output = False )\n",
    "yEnc = ohe.fit_transform( y.reshape(-1,1) )"
   ]
  },
  {
   "cell_type": "code",
   "execution_count": 187,
   "id": "2e808906-e27b-4367-b5d0-a263b4707b89",
   "metadata": {},
   "outputs": [],
   "source": [
    "xTrain, xTest, yTrain, yTest = train_test_split( xNorm, yEnc, train_size = 0.67)"
   ]
  },
  {
   "cell_type": "code",
   "execution_count": 12,
   "id": "684f52ac-8ded-45d7-aa37-4f44a7994d85",
   "metadata": {},
   "outputs": [],
   "source": [
    "from keras.models import Sequential\n",
    "from keras.layers import Input, Dense"
   ]
  },
  {
   "cell_type": "code",
   "execution_count": 209,
   "id": "0d2989d8-ff38-48d1-9515-aa9042b33c18",
   "metadata": {},
   "outputs": [],
   "source": [
    "nn = Sequential( [\n",
    "    Input( shape = ( xNorm.shape[1],) ),\n",
    "    Dense( units = 8, activation = \"relu\" ),\n",
    "    Dense( units = 4, activation = \"relu\" ),\n",
    "    Dense( units = yEnc.shape[1], activation = \"softmax\" )\n",
    "] )\n",
    "\n",
    "nn.compile( loss = \"categorical_crossentropy\", \n",
    "            optimizer = \"adam\", metrics = [\"categorical_accuracy\"] )"
   ]
  },
  {
   "cell_type": "code",
   "execution_count": 211,
   "id": "357d77a1-49fd-40cc-a6f7-9806264c771b",
   "metadata": {},
   "outputs": [
    {
     "name": "stdout",
     "output_type": "stream",
     "text": [
      "Epoch 1/80\n",
      "9/9 [==============================] - 1s 65ms/step - loss: 1.1565 - categorical_accuracy: 0.3889 - val_loss: 1.1979 - val_categorical_accuracy: 0.3000\n",
      "Epoch 2/80\n",
      "9/9 [==============================] - 0s 19ms/step - loss: 1.1427 - categorical_accuracy: 0.3778 - val_loss: 1.1844 - val_categorical_accuracy: 0.3000\n",
      "Epoch 3/80\n",
      "9/9 [==============================] - 0s 28ms/step - loss: 1.1328 - categorical_accuracy: 0.3778 - val_loss: 1.1711 - val_categorical_accuracy: 0.3000\n",
      "Epoch 4/80\n",
      "9/9 [==============================] - 0s 26ms/step - loss: 1.1233 - categorical_accuracy: 0.3778 - val_loss: 1.1611 - val_categorical_accuracy: 0.3000\n",
      "Epoch 5/80\n",
      "9/9 [==============================] - 0s 19ms/step - loss: 1.1166 - categorical_accuracy: 0.3778 - val_loss: 1.1519 - val_categorical_accuracy: 0.3000\n",
      "Epoch 6/80\n",
      "9/9 [==============================] - 0s 21ms/step - loss: 1.1103 - categorical_accuracy: 0.4000 - val_loss: 1.1445 - val_categorical_accuracy: 0.3000\n",
      "Epoch 7/80\n",
      "9/9 [==============================] - 0s 33ms/step - loss: 1.1051 - categorical_accuracy: 0.4444 - val_loss: 1.1386 - val_categorical_accuracy: 0.4000\n",
      "Epoch 8/80\n",
      "9/9 [==============================] - 0s 27ms/step - loss: 1.1006 - categorical_accuracy: 0.5778 - val_loss: 1.1334 - val_categorical_accuracy: 0.4000\n",
      "Epoch 9/80\n",
      "9/9 [==============================] - 0s 29ms/step - loss: 1.0967 - categorical_accuracy: 0.6111 - val_loss: 1.1290 - val_categorical_accuracy: 0.4000\n",
      "Epoch 10/80\n",
      "9/9 [==============================] - 0s 32ms/step - loss: 1.0926 - categorical_accuracy: 0.6333 - val_loss: 1.1254 - val_categorical_accuracy: 0.4000\n",
      "Epoch 11/80\n",
      "9/9 [==============================] - 0s 26ms/step - loss: 1.0888 - categorical_accuracy: 0.6667 - val_loss: 1.1215 - val_categorical_accuracy: 0.5000\n",
      "Epoch 12/80\n",
      "9/9 [==============================] - 0s 23ms/step - loss: 1.0852 - categorical_accuracy: 0.6778 - val_loss: 1.1175 - val_categorical_accuracy: 0.5000\n",
      "Epoch 13/80\n",
      "9/9 [==============================] - 0s 24ms/step - loss: 1.0815 - categorical_accuracy: 0.6778 - val_loss: 1.1135 - val_categorical_accuracy: 0.6000\n",
      "Epoch 14/80\n",
      "9/9 [==============================] - 0s 20ms/step - loss: 1.0777 - categorical_accuracy: 0.6778 - val_loss: 1.1093 - val_categorical_accuracy: 0.6000\n",
      "Epoch 15/80\n",
      "9/9 [==============================] - 0s 33ms/step - loss: 1.0735 - categorical_accuracy: 0.7000 - val_loss: 1.1051 - val_categorical_accuracy: 0.6000\n",
      "Epoch 16/80\n",
      "9/9 [==============================] - 0s 26ms/step - loss: 1.0692 - categorical_accuracy: 0.7000 - val_loss: 1.1010 - val_categorical_accuracy: 0.6000\n",
      "Epoch 17/80\n",
      "9/9 [==============================] - 0s 24ms/step - loss: 1.0641 - categorical_accuracy: 0.7000 - val_loss: 1.0950 - val_categorical_accuracy: 0.6000\n",
      "Epoch 18/80\n",
      "9/9 [==============================] - 0s 28ms/step - loss: 1.0587 - categorical_accuracy: 0.7000 - val_loss: 1.0891 - val_categorical_accuracy: 0.6000\n",
      "Epoch 19/80\n",
      "9/9 [==============================] - 0s 22ms/step - loss: 1.0527 - categorical_accuracy: 0.7000 - val_loss: 1.0837 - val_categorical_accuracy: 0.6000\n",
      "Epoch 20/80\n",
      "9/9 [==============================] - 0s 25ms/step - loss: 1.0441 - categorical_accuracy: 0.7111 - val_loss: 1.0737 - val_categorical_accuracy: 0.6000\n",
      "Epoch 21/80\n",
      "9/9 [==============================] - 0s 29ms/step - loss: 1.0281 - categorical_accuracy: 0.7111 - val_loss: 1.0575 - val_categorical_accuracy: 0.6000\n",
      "Epoch 22/80\n",
      "9/9 [==============================] - 0s 32ms/step - loss: 1.0076 - categorical_accuracy: 0.7111 - val_loss: 1.0422 - val_categorical_accuracy: 0.6000\n",
      "Epoch 23/80\n",
      "9/9 [==============================] - 0s 28ms/step - loss: 0.9893 - categorical_accuracy: 0.7111 - val_loss: 1.0264 - val_categorical_accuracy: 0.6000\n",
      "Epoch 24/80\n",
      "9/9 [==============================] - 0s 22ms/step - loss: 0.9696 - categorical_accuracy: 0.7111 - val_loss: 1.0074 - val_categorical_accuracy: 0.6000\n",
      "Epoch 25/80\n",
      "9/9 [==============================] - 0s 20ms/step - loss: 0.9504 - categorical_accuracy: 0.7111 - val_loss: 0.9906 - val_categorical_accuracy: 0.6000\n",
      "Epoch 26/80\n",
      "9/9 [==============================] - 0s 19ms/step - loss: 0.9286 - categorical_accuracy: 0.7111 - val_loss: 0.9670 - val_categorical_accuracy: 0.6000\n",
      "Epoch 27/80\n",
      "9/9 [==============================] - 0s 20ms/step - loss: 0.9064 - categorical_accuracy: 0.7111 - val_loss: 0.9454 - val_categorical_accuracy: 0.6000\n",
      "Epoch 28/80\n",
      "9/9 [==============================] - 0s 20ms/step - loss: 0.8842 - categorical_accuracy: 0.7111 - val_loss: 0.9241 - val_categorical_accuracy: 0.6000\n",
      "Epoch 29/80\n",
      "9/9 [==============================] - 0s 14ms/step - loss: 0.8608 - categorical_accuracy: 0.7111 - val_loss: 0.9013 - val_categorical_accuracy: 0.6000\n",
      "Epoch 30/80\n",
      "9/9 [==============================] - 0s 10ms/step - loss: 0.8376 - categorical_accuracy: 0.7111 - val_loss: 0.8805 - val_categorical_accuracy: 0.6000\n",
      "Epoch 31/80\n",
      "9/9 [==============================] - 0s 16ms/step - loss: 0.8135 - categorical_accuracy: 0.7111 - val_loss: 0.8596 - val_categorical_accuracy: 0.6000\n",
      "Epoch 32/80\n",
      "9/9 [==============================] - 0s 15ms/step - loss: 0.7902 - categorical_accuracy: 0.7111 - val_loss: 0.8406 - val_categorical_accuracy: 0.6000\n",
      "Epoch 33/80\n",
      "9/9 [==============================] - 0s 32ms/step - loss: 0.7654 - categorical_accuracy: 0.7111 - val_loss: 0.8173 - val_categorical_accuracy: 0.6000\n",
      "Epoch 34/80\n",
      "9/9 [==============================] - 0s 20ms/step - loss: 0.7423 - categorical_accuracy: 0.7111 - val_loss: 0.7923 - val_categorical_accuracy: 0.6000\n",
      "Epoch 35/80\n",
      "9/9 [==============================] - 0s 20ms/step - loss: 0.7178 - categorical_accuracy: 0.7111 - val_loss: 0.7725 - val_categorical_accuracy: 0.6000\n",
      "Epoch 36/80\n",
      "9/9 [==============================] - 0s 19ms/step - loss: 0.6939 - categorical_accuracy: 0.7111 - val_loss: 0.7491 - val_categorical_accuracy: 0.6000\n",
      "Epoch 37/80\n",
      "9/9 [==============================] - 0s 17ms/step - loss: 0.6715 - categorical_accuracy: 0.7111 - val_loss: 0.7292 - val_categorical_accuracy: 0.6000\n",
      "Epoch 38/80\n",
      "9/9 [==============================] - 0s 14ms/step - loss: 0.6502 - categorical_accuracy: 0.7111 - val_loss: 0.7086 - val_categorical_accuracy: 0.6000\n",
      "Epoch 39/80\n",
      "9/9 [==============================] - 0s 18ms/step - loss: 0.6285 - categorical_accuracy: 0.7111 - val_loss: 0.6879 - val_categorical_accuracy: 0.6000\n",
      "Epoch 40/80\n",
      "9/9 [==============================] - 0s 14ms/step - loss: 0.6089 - categorical_accuracy: 0.7111 - val_loss: 0.6705 - val_categorical_accuracy: 0.6000\n",
      "Epoch 41/80\n",
      "9/9 [==============================] - 0s 29ms/step - loss: 0.5897 - categorical_accuracy: 0.7222 - val_loss: 0.6491 - val_categorical_accuracy: 0.6000\n",
      "Epoch 42/80\n",
      "9/9 [==============================] - 0s 38ms/step - loss: 0.5714 - categorical_accuracy: 0.7444 - val_loss: 0.6308 - val_categorical_accuracy: 0.7000\n",
      "Epoch 43/80\n",
      "9/9 [==============================] - 0s 39ms/step - loss: 0.5539 - categorical_accuracy: 0.7556 - val_loss: 0.6154 - val_categorical_accuracy: 0.7000\n",
      "Epoch 44/80\n",
      "9/9 [==============================] - 0s 29ms/step - loss: 0.5391 - categorical_accuracy: 0.7444 - val_loss: 0.6030 - val_categorical_accuracy: 0.7000\n",
      "Epoch 45/80\n",
      "9/9 [==============================] - 0s 41ms/step - loss: 0.5231 - categorical_accuracy: 0.7556 - val_loss: 0.5885 - val_categorical_accuracy: 0.7000\n",
      "Epoch 46/80\n",
      "9/9 [==============================] - 0s 21ms/step - loss: 0.5091 - categorical_accuracy: 0.7778 - val_loss: 0.5751 - val_categorical_accuracy: 0.7000\n",
      "Epoch 47/80\n",
      "9/9 [==============================] - 0s 38ms/step - loss: 0.4957 - categorical_accuracy: 0.7778 - val_loss: 0.5621 - val_categorical_accuracy: 0.7000\n",
      "Epoch 48/80\n",
      "9/9 [==============================] - 0s 33ms/step - loss: 0.4837 - categorical_accuracy: 0.7889 - val_loss: 0.5487 - val_categorical_accuracy: 0.7000\n",
      "Epoch 49/80\n",
      "9/9 [==============================] - 0s 20ms/step - loss: 0.4714 - categorical_accuracy: 0.8000 - val_loss: 0.5366 - val_categorical_accuracy: 0.7000\n",
      "Epoch 50/80\n",
      "9/9 [==============================] - 0s 19ms/step - loss: 0.4603 - categorical_accuracy: 0.8000 - val_loss: 0.5256 - val_categorical_accuracy: 0.8000\n",
      "Epoch 51/80\n",
      "9/9 [==============================] - 0s 33ms/step - loss: 0.4497 - categorical_accuracy: 0.8111 - val_loss: 0.5147 - val_categorical_accuracy: 0.8000\n",
      "Epoch 52/80\n",
      "9/9 [==============================] - 0s 30ms/step - loss: 0.4406 - categorical_accuracy: 0.8444 - val_loss: 0.5033 - val_categorical_accuracy: 0.8000\n",
      "Epoch 53/80\n",
      "9/9 [==============================] - 0s 35ms/step - loss: 0.4311 - categorical_accuracy: 0.8444 - val_loss: 0.4955 - val_categorical_accuracy: 0.8000\n",
      "Epoch 54/80\n",
      "9/9 [==============================] - 0s 34ms/step - loss: 0.4221 - categorical_accuracy: 0.8667 - val_loss: 0.4865 - val_categorical_accuracy: 0.8000\n",
      "Epoch 55/80\n",
      "9/9 [==============================] - 0s 29ms/step - loss: 0.4140 - categorical_accuracy: 0.8778 - val_loss: 0.4780 - val_categorical_accuracy: 0.8000\n",
      "Epoch 56/80\n",
      "9/9 [==============================] - 0s 26ms/step - loss: 0.4061 - categorical_accuracy: 0.8778 - val_loss: 0.4705 - val_categorical_accuracy: 0.8000\n",
      "Epoch 57/80\n",
      "9/9 [==============================] - 0s 29ms/step - loss: 0.3987 - categorical_accuracy: 0.8778 - val_loss: 0.4633 - val_categorical_accuracy: 0.8000\n",
      "Epoch 58/80\n",
      "9/9 [==============================] - 0s 31ms/step - loss: 0.3917 - categorical_accuracy: 0.8889 - val_loss: 0.4556 - val_categorical_accuracy: 0.8000\n",
      "Epoch 59/80\n",
      "9/9 [==============================] - 0s 35ms/step - loss: 0.3854 - categorical_accuracy: 0.9111 - val_loss: 0.4471 - val_categorical_accuracy: 0.8000\n",
      "Epoch 60/80\n",
      "9/9 [==============================] - 0s 30ms/step - loss: 0.3801 - categorical_accuracy: 0.9000 - val_loss: 0.4412 - val_categorical_accuracy: 0.8000\n",
      "Epoch 61/80\n",
      "9/9 [==============================] - 0s 27ms/step - loss: 0.3725 - categorical_accuracy: 0.9111 - val_loss: 0.4342 - val_categorical_accuracy: 0.8000\n",
      "Epoch 62/80\n",
      "9/9 [==============================] - 0s 22ms/step - loss: 0.3671 - categorical_accuracy: 0.9111 - val_loss: 0.4279 - val_categorical_accuracy: 0.8000\n",
      "Epoch 63/80\n",
      "9/9 [==============================] - 0s 26ms/step - loss: 0.3623 - categorical_accuracy: 0.9444 - val_loss: 0.4191 - val_categorical_accuracy: 0.9000\n",
      "Epoch 64/80\n",
      "9/9 [==============================] - 0s 23ms/step - loss: 0.3564 - categorical_accuracy: 0.9444 - val_loss: 0.4150 - val_categorical_accuracy: 0.9000\n",
      "Epoch 65/80\n",
      "9/9 [==============================] - 0s 15ms/step - loss: 0.3506 - categorical_accuracy: 0.9444 - val_loss: 0.4089 - val_categorical_accuracy: 0.9000\n",
      "Epoch 66/80\n",
      "9/9 [==============================] - 0s 19ms/step - loss: 0.3456 - categorical_accuracy: 0.9444 - val_loss: 0.4031 - val_categorical_accuracy: 0.9000\n",
      "Epoch 67/80\n",
      "9/9 [==============================] - 0s 18ms/step - loss: 0.3415 - categorical_accuracy: 0.9444 - val_loss: 0.4002 - val_categorical_accuracy: 0.9000\n",
      "Epoch 68/80\n",
      "9/9 [==============================] - 0s 29ms/step - loss: 0.3363 - categorical_accuracy: 0.9444 - val_loss: 0.3931 - val_categorical_accuracy: 0.9000\n",
      "Epoch 69/80\n",
      "9/9 [==============================] - 0s 31ms/step - loss: 0.3315 - categorical_accuracy: 0.9444 - val_loss: 0.3881 - val_categorical_accuracy: 0.9000\n",
      "Epoch 70/80\n",
      "9/9 [==============================] - 0s 26ms/step - loss: 0.3268 - categorical_accuracy: 0.9444 - val_loss: 0.3830 - val_categorical_accuracy: 0.9000\n",
      "Epoch 71/80\n",
      "9/9 [==============================] - 0s 29ms/step - loss: 0.3235 - categorical_accuracy: 0.9444 - val_loss: 0.3766 - val_categorical_accuracy: 0.9000\n",
      "Epoch 72/80\n",
      "9/9 [==============================] - 0s 34ms/step - loss: 0.3184 - categorical_accuracy: 0.9444 - val_loss: 0.3719 - val_categorical_accuracy: 1.0000\n",
      "Epoch 73/80\n",
      "9/9 [==============================] - 0s 30ms/step - loss: 0.3145 - categorical_accuracy: 0.9444 - val_loss: 0.3694 - val_categorical_accuracy: 0.9000\n",
      "Epoch 74/80\n",
      "9/9 [==============================] - 0s 33ms/step - loss: 0.3105 - categorical_accuracy: 0.9444 - val_loss: 0.3640 - val_categorical_accuracy: 0.9000\n",
      "Epoch 75/80\n",
      "9/9 [==============================] - 0s 31ms/step - loss: 0.3064 - categorical_accuracy: 0.9444 - val_loss: 0.3607 - val_categorical_accuracy: 0.9000\n",
      "Epoch 76/80\n",
      "9/9 [==============================] - 0s 37ms/step - loss: 0.3022 - categorical_accuracy: 0.9444 - val_loss: 0.3558 - val_categorical_accuracy: 1.0000\n",
      "Epoch 77/80\n",
      "9/9 [==============================] - 0s 30ms/step - loss: 0.2985 - categorical_accuracy: 0.9556 - val_loss: 0.3502 - val_categorical_accuracy: 1.0000\n",
      "Epoch 78/80\n",
      "9/9 [==============================] - 0s 25ms/step - loss: 0.2949 - categorical_accuracy: 0.9556 - val_loss: 0.3449 - val_categorical_accuracy: 1.0000\n",
      "Epoch 79/80\n",
      "9/9 [==============================] - 0s 23ms/step - loss: 0.2915 - categorical_accuracy: 0.9556 - val_loss: 0.3402 - val_categorical_accuracy: 1.0000\n",
      "Epoch 80/80\n",
      "9/9 [==============================] - 0s 13ms/step - loss: 0.2875 - categorical_accuracy: 0.9556 - val_loss: 0.3371 - val_categorical_accuracy: 1.0000\n"
     ]
    }
   ],
   "source": [
    "hist = nn.fit( xTrain, yTrain, epochs = 80, batch_size = 10, validation_split = 0.1 )"
   ]
  },
  {
   "cell_type": "code",
   "execution_count": 213,
   "id": "72c9814b-6874-4de1-845b-d0283f30b5e4",
   "metadata": {},
   "outputs": [
    {
     "data": {
      "image/png": "[encoded data removed]",
      "text/plain": [
       "<Figure size 640x480 with 1 Axes>"
      ]
     },
     "metadata": {},
     "output_type": "display_data"
    }
   ],
   "source": [
    "plt.plot( hist.history[\"loss\"], label = \"Loss\" )\n",
    "plt.plot( hist.history[\"categorical_accuracy\"], label = \"Accuracy\" )\n",
    "\n",
    "plt.plot( hist.history[\"val_categorical_accuracy\"], label = \"Accuracy\" )\n",
    "plt.xlabel(\"Epochs\")\n",
    "plt.ylabel(\"Loss / Accuracy\")\n",
    "plt.legend()\n",
    "plt.show()"
   ]
  },
  {
   "cell_type": "code",
   "execution_count": null,
   "id": "f036bd49-ab96-4d50-b6f1-ca4e1facae37",
   "metadata": {},
   "outputs": [],
   "source": []
  },
  {
   "cell_type": "code",
   "execution_count": 215,
   "id": "a8fe72aa-1c0a-43bf-a8c8-f5b868d4169c",
   "metadata": {},
   "outputs": [
    {
     "name": "stdout",
     "output_type": "stream",
     "text": [
      "2/2 [==============================] - 0s 18ms/step - loss: 0.3597 - categorical_accuracy: 0.9800\n"
     ]
    },
    {
     "data": {
      "text/plain": [
       "[0.35967549681663513, 0.9800000190734863]"
      ]
     },
     "execution_count": 215,
     "metadata": {},
     "output_type": "execute_result"
    }
   ],
   "source": [
    "nn.evaluate(xTest, yTest)"
   ]
  },
  {
   "cell_type": "code",
   "execution_count": 224,
   "id": "9ba772f2-d336-4f8e-bc74-4646334ac0b3",
   "metadata": {},
   "outputs": [
    {
     "name": "stdout",
     "output_type": "stream",
     "text": [
      "1/1 [==============================] - 0s 37ms/step\n",
      "Предсказание: 1, На самом деле: 1\n"
     ]
    }
   ],
   "source": [
    "index = 6\n",
    "yPred = nn.predict( xTest[index].reshape(1,-1) )\n",
    "\n",
    "predLabel = np.argmax( yPred )\n",
    "actLabel = np.argmax( yTest[index] )\n",
    "print(f\"Предсказание: {predLabel}, На самом деле: {actLabel}\")"
   ]
  },
  {
   "cell_type": "code",
   "execution_count": 219,
   "id": "7428ca33-f1f6-46f5-8a26-9c576ed5f48e",
   "metadata": {},
   "outputs": [
    {
     "data": {
      "text/plain": [
       "array([[0.97116405, 0.00782564, 0.02101036]], dtype=float32)"
      ]
     },
     "execution_count": 219,
     "metadata": {},
     "output_type": "execute_result"
    }
   ],
   "source": [
    "yPred"
   ]
  },
  {
   "cell_type": "markdown",
   "id": "5ed32422-95fe-485f-93dc-b18038b96c4b",
   "metadata": {},
   "source": [
    "### Классификация без One-Hot"
   ]
  },
  {
   "cell_type": "markdown",
   "id": "b81275bc-e57f-4b92-8054-42ab91287668",
   "metadata": {},
   "source": [
    "Используем *xNorm* на входе и \"родной\" *y* на выходе"
   ]
  },
  {
   "cell_type": "code",
   "execution_count": 9,
   "id": "d5c5c576-706f-42f8-af04-5e1365460ebc",
   "metadata": {},
   "outputs": [],
   "source": [
    "x_train, x_test, y_train, y_test = train_test_split( xNorm, y, train_size = 0.67 )"
   ]
  },
  {
   "cell_type": "markdown",
   "id": "6b3c723a-f68f-4371-87dd-39c75bfcb679",
   "metadata": {},
   "source": [
    "Чтобы использовать метки, не прибегая к их бинарному кодированию, используем функцию потерь **sparse_categorical_crossentropy**\n",
    "\n",
    "Однако на выходе нейросети должны по-прежнему быть три классифицирующих нейрона (sigmoid или softmax)"
   ]
  },
  {
   "cell_type": "code",
   "execution_count": 28,
   "id": "c8cd0ed2-5fcb-48cf-9ef7-4ee7bc3eed78",
   "metadata": {},
   "outputs": [],
   "source": [
    "nnSparse = Sequential( [\n",
    "    Input( shape = ( xNorm.shape[1],) ),\n",
    "    Dense( units = 12, activation = \"relu\" ),\n",
    "    Dense( units = 8, activation = \"relu\" ),\n",
    "    Dense( units = len(np.unique(y)), activation = \"softmax\" )\n",
    "] )\n",
    "\n",
    "nnSparse.compile( loss = \"sparse_categorical_crossentropy\", \n",
    "            optimizer = \"adam\", metrics = [\"sparse_categorical_accuracy\"] )"
   ]
  },
  {
   "cell_type": "code",
   "execution_count": 29,
   "id": "be8c619d-e10b-47a8-a991-647dc1e5de3a",
   "metadata": {},
   "outputs": [
    {
     "name": "stdout",
     "output_type": "stream",
     "text": [
      "Epoch 1/100\n",
      "10/10 [==============================] - 0s 1ms/step - loss: 1.0670 - sparse_categorical_accuracy: 0.3600\n",
      "Epoch 2/100\n",
      "10/10 [==============================] - 0s 1ms/step - loss: 1.0475 - sparse_categorical_accuracy: 0.6200\n",
      "Epoch 3/100\n",
      "10/10 [==============================] - 0s 1ms/step - loss: 1.0283 - sparse_categorical_accuracy: 0.7000\n",
      "Epoch 4/100\n",
      "10/10 [==============================] - 0s 1ms/step - loss: 1.0091 - sparse_categorical_accuracy: 0.7000\n",
      "Epoch 5/100\n",
      "10/10 [==============================] - 0s 1ms/step - loss: 0.9894 - sparse_categorical_accuracy: 0.7000\n",
      "Epoch 6/100\n",
      "10/10 [==============================] - 0s 1ms/step - loss: 0.9689 - sparse_categorical_accuracy: 0.7100\n",
      "Epoch 7/100\n",
      "10/10 [==============================] - 0s 1ms/step - loss: 0.9477 - sparse_categorical_accuracy: 0.7100\n",
      "Epoch 8/100\n",
      "10/10 [==============================] - 0s 1ms/step - loss: 0.9252 - sparse_categorical_accuracy: 0.7100\n",
      "Epoch 9/100\n",
      "10/10 [==============================] - 0s 1ms/step - loss: 0.9029 - sparse_categorical_accuracy: 0.7100\n",
      "Epoch 10/100\n",
      "10/10 [==============================] - 0s 1ms/step - loss: 0.8793 - sparse_categorical_accuracy: 0.7100\n",
      "Epoch 11/100\n",
      "10/10 [==============================] - 0s 1ms/step - loss: 0.8552 - sparse_categorical_accuracy: 0.7100\n",
      "Epoch 12/100\n",
      "10/10 [==============================] - 0s 1ms/step - loss: 0.8305 - sparse_categorical_accuracy: 0.7100\n",
      "Epoch 13/100\n",
      "10/10 [==============================] - 0s 1ms/step - loss: 0.8057 - sparse_categorical_accuracy: 0.7100\n",
      "Epoch 14/100\n",
      "10/10 [==============================] - 0s 1ms/step - loss: 0.7808 - sparse_categorical_accuracy: 0.7100\n",
      "Epoch 15/100\n",
      "10/10 [==============================] - 0s 1ms/step - loss: 0.7568 - sparse_categorical_accuracy: 0.7100\n",
      "Epoch 16/100\n",
      "10/10 [==============================] - 0s 1ms/step - loss: 0.7315 - sparse_categorical_accuracy: 0.7100\n",
      "Epoch 17/100\n",
      "10/10 [==============================] - 0s 1ms/step - loss: 0.7049 - sparse_categorical_accuracy: 0.7200\n",
      "Epoch 18/100\n",
      "10/10 [==============================] - 0s 1ms/step - loss: 0.6795 - sparse_categorical_accuracy: 0.7200\n",
      "Epoch 19/100\n",
      "10/10 [==============================] - 0s 1ms/step - loss: 0.6530 - sparse_categorical_accuracy: 0.7300\n",
      "Epoch 20/100\n",
      "10/10 [==============================] - 0s 1ms/step - loss: 0.6297 - sparse_categorical_accuracy: 0.7400\n",
      "Epoch 21/100\n",
      "10/10 [==============================] - 0s 1ms/step - loss: 0.6060 - sparse_categorical_accuracy: 0.7400\n",
      "Epoch 22/100\n",
      "10/10 [==============================] - 0s 1ms/step - loss: 0.5842 - sparse_categorical_accuracy: 0.7400\n",
      "Epoch 23/100\n",
      "10/10 [==============================] - 0s 1ms/step - loss: 0.5649 - sparse_categorical_accuracy: 0.7400\n",
      "Epoch 24/100\n",
      "10/10 [==============================] - 0s 1ms/step - loss: 0.5454 - sparse_categorical_accuracy: 0.7700\n",
      "Epoch 25/100\n",
      "10/10 [==============================] - 0s 1ms/step - loss: 0.5278 - sparse_categorical_accuracy: 0.7800\n",
      "Epoch 26/100\n",
      "10/10 [==============================] - 0s 1ms/step - loss: 0.5116 - sparse_categorical_accuracy: 0.7800\n",
      "Epoch 27/100\n",
      "10/10 [==============================] - 0s 2ms/step - loss: 0.4966 - sparse_categorical_accuracy: 0.7900\n",
      "Epoch 28/100\n",
      "10/10 [==============================] - 0s 1ms/step - loss: 0.4851 - sparse_categorical_accuracy: 0.8100\n",
      "Epoch 29/100\n",
      "10/10 [==============================] - 0s 1ms/step - loss: 0.4727 - sparse_categorical_accuracy: 0.7900\n",
      "Epoch 30/100\n",
      "10/10 [==============================] - 0s 1ms/step - loss: 0.4616 - sparse_categorical_accuracy: 0.7900\n",
      "Epoch 31/100\n",
      "10/10 [==============================] - 0s 1ms/step - loss: 0.4500 - sparse_categorical_accuracy: 0.8100\n",
      "Epoch 32/100\n",
      "10/10 [==============================] - 0s 1ms/step - loss: 0.4401 - sparse_categorical_accuracy: 0.8100\n",
      "Epoch 33/100\n",
      "10/10 [==============================] - 0s 1ms/step - loss: 0.4314 - sparse_categorical_accuracy: 0.8100\n",
      "Epoch 34/100\n",
      "10/10 [==============================] - 0s 1ms/step - loss: 0.4231 - sparse_categorical_accuracy: 0.8400\n",
      "Epoch 35/100\n",
      "10/10 [==============================] - 0s 4ms/step - loss: 0.4149 - sparse_categorical_accuracy: 0.8400\n",
      "Epoch 36/100\n",
      "10/10 [==============================] - 0s 2ms/step - loss: 0.4074 - sparse_categorical_accuracy: 0.8400\n",
      "Epoch 37/100\n",
      "10/10 [==============================] - 0s 1ms/step - loss: 0.4003 - sparse_categorical_accuracy: 0.8600\n",
      "Epoch 38/100\n",
      "10/10 [==============================] - 0s 1ms/step - loss: 0.3933 - sparse_categorical_accuracy: 0.8700\n",
      "Epoch 39/100\n",
      "10/10 [==============================] - 0s 1ms/step - loss: 0.3870 - sparse_categorical_accuracy: 0.8900\n",
      "Epoch 40/100\n",
      "10/10 [==============================] - 0s 1ms/step - loss: 0.3816 - sparse_categorical_accuracy: 0.8900\n",
      "Epoch 41/100\n",
      "10/10 [==============================] - 0s 2ms/step - loss: 0.3746 - sparse_categorical_accuracy: 0.9000\n",
      "Epoch 42/100\n",
      "10/10 [==============================] - 0s 1ms/step - loss: 0.3693 - sparse_categorical_accuracy: 0.9300\n",
      "Epoch 43/100\n",
      "10/10 [==============================] - 0s 1ms/step - loss: 0.3635 - sparse_categorical_accuracy: 0.9300\n",
      "Epoch 44/100\n",
      "10/10 [==============================] - 0s 1ms/step - loss: 0.3577 - sparse_categorical_accuracy: 0.9400\n",
      "Epoch 45/100\n",
      "10/10 [==============================] - 0s 1ms/step - loss: 0.3530 - sparse_categorical_accuracy: 0.9300\n",
      "Epoch 46/100\n",
      "10/10 [==============================] - 0s 1ms/step - loss: 0.3479 - sparse_categorical_accuracy: 0.9300\n",
      "Epoch 47/100\n",
      "10/10 [==============================] - 0s 1ms/step - loss: 0.3417 - sparse_categorical_accuracy: 0.9400\n",
      "Epoch 48/100\n",
      "10/10 [==============================] - 0s 1ms/step - loss: 0.3368 - sparse_categorical_accuracy: 0.9400\n",
      "Epoch 49/100\n",
      "10/10 [==============================] - 0s 1ms/step - loss: 0.3334 - sparse_categorical_accuracy: 0.9300\n",
      "Epoch 50/100\n",
      "10/10 [==============================] - 0s 1ms/step - loss: 0.3280 - sparse_categorical_accuracy: 0.9300\n",
      "Epoch 51/100\n",
      "10/10 [==============================] - 0s 1ms/step - loss: 0.3214 - sparse_categorical_accuracy: 0.9500\n",
      "Epoch 52/100\n",
      "10/10 [==============================] - 0s 1ms/step - loss: 0.3171 - sparse_categorical_accuracy: 0.9500\n",
      "Epoch 53/100\n",
      "10/10 [==============================] - 0s 1ms/step - loss: 0.3126 - sparse_categorical_accuracy: 0.9500\n",
      "Epoch 54/100\n",
      "10/10 [==============================] - 0s 1ms/step - loss: 0.3075 - sparse_categorical_accuracy: 0.9600\n",
      "Epoch 55/100\n",
      "10/10 [==============================] - 0s 1ms/step - loss: 0.3032 - sparse_categorical_accuracy: 0.9600\n",
      "Epoch 56/100\n",
      "10/10 [==============================] - 0s 1ms/step - loss: 0.2987 - sparse_categorical_accuracy: 0.9600\n",
      "Epoch 57/100\n",
      "10/10 [==============================] - 0s 1ms/step - loss: 0.2939 - sparse_categorical_accuracy: 0.9500\n",
      "Epoch 58/100\n",
      "10/10 [==============================] - 0s 1ms/step - loss: 0.2965 - sparse_categorical_accuracy: 0.9500\n",
      "Epoch 59/100\n",
      "10/10 [==============================] - 0s 1ms/step - loss: 0.2867 - sparse_categorical_accuracy: 0.9500\n",
      "Epoch 60/100\n",
      "10/10 [==============================] - 0s 1ms/step - loss: 0.2807 - sparse_categorical_accuracy: 0.9600\n",
      "Epoch 61/100\n",
      "10/10 [==============================] - 0s 1ms/step - loss: 0.2761 - sparse_categorical_accuracy: 0.9600\n",
      "Epoch 62/100\n",
      "10/10 [==============================] - 0s 1ms/step - loss: 0.2736 - sparse_categorical_accuracy: 0.9600\n",
      "Epoch 63/100\n",
      "10/10 [==============================] - 0s 1ms/step - loss: 0.2684 - sparse_categorical_accuracy: 0.9500\n",
      "Epoch 64/100\n",
      "10/10 [==============================] - 0s 1ms/step - loss: 0.2637 - sparse_categorical_accuracy: 0.9500\n",
      "Epoch 65/100\n",
      "10/10 [==============================] - 0s 1ms/step - loss: 0.2589 - sparse_categorical_accuracy: 0.9600\n",
      "Epoch 66/100\n",
      "10/10 [==============================] - 0s 1ms/step - loss: 0.2545 - sparse_categorical_accuracy: 0.9600\n",
      "Epoch 67/100\n",
      "10/10 [==============================] - 0s 1ms/step - loss: 0.2501 - sparse_categorical_accuracy: 0.9600\n",
      "Epoch 68/100\n",
      "10/10 [==============================] - 0s 1ms/step - loss: 0.2472 - sparse_categorical_accuracy: 0.9600\n",
      "Epoch 69/100\n",
      "10/10 [==============================] - 0s 1ms/step - loss: 0.2426 - sparse_categorical_accuracy: 0.9600\n",
      "Epoch 70/100\n",
      "10/10 [==============================] - 0s 1ms/step - loss: 0.2413 - sparse_categorical_accuracy: 0.9600\n",
      "Epoch 71/100\n",
      "10/10 [==============================] - 0s 1ms/step - loss: 0.2361 - sparse_categorical_accuracy: 0.9500\n",
      "Epoch 72/100\n",
      "10/10 [==============================] - 0s 1ms/step - loss: 0.2308 - sparse_categorical_accuracy: 0.9600\n",
      "Epoch 73/100\n",
      "10/10 [==============================] - 0s 1ms/step - loss: 0.2285 - sparse_categorical_accuracy: 0.9600\n",
      "Epoch 74/100\n",
      "10/10 [==============================] - 0s 1ms/step - loss: 0.2233 - sparse_categorical_accuracy: 0.9600\n",
      "Epoch 75/100\n",
      "10/10 [==============================] - 0s 2ms/step - loss: 0.2200 - sparse_categorical_accuracy: 0.9500\n",
      "Epoch 76/100\n",
      "10/10 [==============================] - 0s 2ms/step - loss: 0.2166 - sparse_categorical_accuracy: 0.9600\n",
      "Epoch 77/100\n",
      "10/10 [==============================] - 0s 1ms/step - loss: 0.2129 - sparse_categorical_accuracy: 0.9600\n",
      "Epoch 78/100\n",
      "10/10 [==============================] - 0s 1ms/step - loss: 0.2095 - sparse_categorical_accuracy: 0.9600\n",
      "Epoch 79/100\n",
      "10/10 [==============================] - 0s 1ms/step - loss: 0.2059 - sparse_categorical_accuracy: 0.9600\n",
      "Epoch 80/100\n",
      "10/10 [==============================] - 0s 1ms/step - loss: 0.2026 - sparse_categorical_accuracy: 0.9600\n",
      "Epoch 81/100\n",
      "10/10 [==============================] - 0s 1ms/step - loss: 0.1993 - sparse_categorical_accuracy: 0.9600\n",
      "Epoch 82/100\n",
      "10/10 [==============================] - 0s 1ms/step - loss: 0.1976 - sparse_categorical_accuracy: 0.9700\n",
      "Epoch 83/100\n",
      "10/10 [==============================] - 0s 1ms/step - loss: 0.1965 - sparse_categorical_accuracy: 0.9600\n",
      "Epoch 84/100\n",
      "10/10 [==============================] - 0s 1ms/step - loss: 0.1913 - sparse_categorical_accuracy: 0.9600\n",
      "Epoch 85/100\n",
      "10/10 [==============================] - 0s 1ms/step - loss: 0.1877 - sparse_categorical_accuracy: 0.9700\n",
      "Epoch 86/100\n",
      "10/10 [==============================] - 0s 1ms/step - loss: 0.1841 - sparse_categorical_accuracy: 0.9600\n",
      "Epoch 87/100\n",
      "10/10 [==============================] - 0s 1ms/step - loss: 0.1813 - sparse_categorical_accuracy: 0.9600\n",
      "Epoch 88/100\n",
      "10/10 [==============================] - 0s 1ms/step - loss: 0.1790 - sparse_categorical_accuracy: 0.9600\n",
      "Epoch 89/100\n",
      "10/10 [==============================] - 0s 1ms/step - loss: 0.1770 - sparse_categorical_accuracy: 0.9600\n",
      "Epoch 90/100\n",
      "10/10 [==============================] - 0s 1ms/step - loss: 0.1729 - sparse_categorical_accuracy: 0.9600\n",
      "Epoch 91/100\n",
      "10/10 [==============================] - 0s 1ms/step - loss: 0.1709 - sparse_categorical_accuracy: 0.9600\n",
      "Epoch 92/100\n",
      "10/10 [==============================] - 0s 1ms/step - loss: 0.1687 - sparse_categorical_accuracy: 0.9600\n",
      "Epoch 93/100\n",
      "10/10 [==============================] - 0s 1ms/step - loss: 0.1661 - sparse_categorical_accuracy: 0.9600\n",
      "Epoch 94/100\n",
      "10/10 [==============================] - 0s 1ms/step - loss: 0.1650 - sparse_categorical_accuracy: 0.9700\n",
      "Epoch 95/100\n",
      "10/10 [==============================] - 0s 1ms/step - loss: 0.1614 - sparse_categorical_accuracy: 0.9700\n",
      "Epoch 96/100\n",
      "10/10 [==============================] - 0s 1ms/step - loss: 0.1612 - sparse_categorical_accuracy: 0.9600\n",
      "Epoch 97/100\n",
      "10/10 [==============================] - 0s 1ms/step - loss: 0.1565 - sparse_categorical_accuracy: 0.9600\n",
      "Epoch 98/100\n",
      "10/10 [==============================] - 0s 1ms/step - loss: 0.1547 - sparse_categorical_accuracy: 0.9600\n",
      "Epoch 99/100\n",
      "10/10 [==============================] - 0s 1ms/step - loss: 0.1524 - sparse_categorical_accuracy: 0.9600\n",
      "Epoch 100/100\n",
      "10/10 [==============================] - 0s 1ms/step - loss: 0.1506 - sparse_categorical_accuracy: 0.9600\n"
     ]
    }
   ],
   "source": [
    "hist = nnSparse.fit( x_train, y_train, epochs = 100, batch_size = 10 )"
   ]
  },
  {
   "cell_type": "code",
   "execution_count": 30,
   "id": "f25dc90a-b6b1-41e8-a7ff-4afdd7cf1e8a",
   "metadata": {},
   "outputs": [
    {
     "data": {
      "image/png": "[encoded data removed]",
      "text/plain": [
       "<Figure size 640x480 with 1 Axes>"
      ]
     },
     "metadata": {},
     "output_type": "display_data"
    }
   ],
   "source": [
    "plt.plot( hist.history[\"loss\"], label = \"Loss\" )\n",
    "plt.plot( hist.history[\"sparse_categorical_accuracy\"], label = \"Accuracy\" )\n",
    "plt.xlabel(\"Epochs\")\n",
    "plt.ylabel(\"Loss / Accuracy\")\n",
    "plt.legend()\n",
    "plt.show()"
   ]
  },
  {
   "cell_type": "code",
   "execution_count": 31,
   "id": "df73f526-cc57-463a-96f4-5d97f5d42fbb",
   "metadata": {},
   "outputs": [
    {
     "name": "stdout",
     "output_type": "stream",
     "text": [
      "2/2 [==============================] - 0s 3ms/step - loss: 0.2005 - sparse_categorical_accuracy: 0.9600\n"
     ]
    },
    {
     "data": {
      "text/plain": [
       "[0.20053988695144653, 0.9599999785423279]"
      ]
     },
     "execution_count": 31,
     "metadata": {},
     "output_type": "execute_result"
    }
   ],
   "source": [
    "nnSparse.evaluate( x_test, y_test )"
   ]
  }
 ],
 "metadata": {
  "kernelspec": {
   "display_name": "Python 3 (ipykernel)",
   "language": "python",
   "name": "python3"
  },
  "language_info": {
   "codemirror_mode": {
    "name": "ipython",
    "version": 3
   },
   "file_extension": ".py",
   "mimetype": "text/x-python",
   "name": "python",
   "nbconvert_exporter": "python",
   "pygments_lexer": "ipython3",
   "version": "3.9.18"
  }
 },
 "nbformat": 4,
 "nbformat_minor": 5
}
