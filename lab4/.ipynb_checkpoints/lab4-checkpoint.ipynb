{
 "cells": [
  {
   "cell_type": "markdown",
   "id": "2a8042f7-c8a0-41a5-8540-b282de4b1fe6",
   "metadata": {},
   "source": [
    "## Работа со слоями. Модель автоэнкодера. Резидуальные (остаточные) нейронные сети\n",
    "\n",
    "Задание:\n",
    "\n",
    "1. Для любого известного набора данных построить модель автоэнкодера с раздельными энкодером и декодером\n",
    "2. Для используемых данных подобрать оптимальный размер латентного представления (минимальный размер с приемлемым качеством декодирования)\n",
    "3. Сгенерировать с помощью декодера объекты из случайного / или произвольно модифицированного латентного представления/"
   ]
  },
  {
   "cell_type": "code",
   "execution_count": null,
   "id": "d863c092-c3ff-4223-bcb5-fa9a55287e2d",
   "metadata": {},
   "outputs": [],
   "source": []
  }
 ],
 "metadata": {
  "kernelspec": {
   "display_name": "Python [conda env:base] *",
   "language": "python",
   "name": "conda-base-py"
  },
  "language_info": {
   "codemirror_mode": {
    "name": "ipython",
    "version": 3
   },
   "file_extension": ".py",
   "mimetype": "text/x-python",
   "name": "python",
   "nbconvert_exporter": "python",
   "pygments_lexer": "ipython3",
   "version": "3.12.7"
  }
 },
 "nbformat": 4,
 "nbformat_minor": 5
}
